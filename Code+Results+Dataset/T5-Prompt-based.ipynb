{
 "cells": [
  {
   "cell_type": "code",
   "execution_count": 1,
   "id": "5b0d9a71-bec5-404d-bfeb-83f61cee320d",
   "metadata": {},
   "outputs": [],
   "source": [
    "# !pip install --upgrade transformers\n",
    "# !pip install --upgrade transformers accelerate peft bitsandbytes\n",
    "# !pip install datasets\n",
    "# !pip install scikit-learn\n",
    "# !pip install evaluate\n",
    "# !pip install protobuf\n",
    "#!pip install SentencePiece "
   ]
  },
  {
   "cell_type": "code",
   "execution_count": 2,
   "id": "0de617be-2446-4187-b869-cbe88cc2dc0a",
   "metadata": {},
   "outputs": [],
   "source": [
    "import pandas as pd\n",
    "from datasets import load_dataset\n",
    "from transformers import AutoTokenizer, AutoModelForSequenceClassification, AutoModelForSeq2SeqLM\n",
    "from transformers import T5Tokenizer, T5ForConditionalGeneration\n",
    "import torch\n",
    "import evaluate\n",
    "import re"
   ]
  },
  {
   "cell_type": "code",
   "execution_count": 3,
   "id": "749e87a1-0dad-473b-8a22-13bb88f3cbff",
   "metadata": {},
   "outputs": [],
   "source": [
    "# Load the MRPC dataset\n",
    "dataset = load_dataset(\"glue\", \"mrpc\")"
   ]
  },
  {
   "cell_type": "code",
   "execution_count": 4,
   "id": "aec2efdb-5b7f-4177-82dd-f07f1b537abf",
   "metadata": {},
   "outputs": [],
   "source": [
    "#test = pd.DataFrame(dataset[\"test\"])"
   ]
  },
  {
   "cell_type": "code",
   "execution_count": 5,
   "id": "b5023ca0-3cbd-4042-8d91-b409a6812b94",
   "metadata": {},
   "outputs": [],
   "source": [
    "# Define a function to remove noise\n",
    "def remove_noise(text):\n",
    "    # Remove URLs\n",
    "    text = re.sub(r'https?://\\S+|www\\.\\S+', '', text)\n",
    "    \n",
    "    # Remove special patterns like \"< .SPX >\", \"< .IXIC >\"\n",
    "    text = re.sub(r'< \\.[A-Z]+ >', '', text)\n",
    "    \n",
    "    # Remove ellipsis (...)\n",
    "    text = re.sub(r'\\.\\s*\\.\\s*\\.+', ' ', text)\n",
    "    \n",
    "    # Remove extra spaces\n",
    "    text = re.sub(r'\\s+', ' ', text).strip()\n",
    "    \n",
    "    # Remove special characters like \"â€™\", \"Â½\", \"Â£\", etc.\n",
    "    text = re.sub(r'[â€™Â½Â£]', '', text)\n",
    "    \n",
    "    # Remove single alphabets (e.g., \"C\")\n",
    "    text = re.sub(r'\\b\\w\\b', '', text)\n",
    "    \n",
    "    # Remove equal (=) sign at the end\n",
    "    text = re.sub(r'=$', '', text)\n",
    "    \n",
    "    # Remove double hyphens (--)\n",
    "    text = re.sub(r'--+', '', text)\n",
    "    \n",
    "    # Remove unwanted quotes\n",
    "    text = re.sub(r'[\"“”]', '', text)\n",
    "\n",
    "    # Fix short words with apostrophes (e.g., \"'re\" -> \"are\")\n",
    "    text = re.sub(r\"\\s+'re\\b\", \" are\", text)\n",
    "    text = re.sub(r\"\\b're\\b\", \"are\", text)\n",
    "    text = re.sub(r\"\\b've\\b\", \"have\", text)\n",
    "    text = re.sub(r\"\\b'll\\b\", \"will\", text)\n",
    "    text = re.sub(r\"\\b'd\\b\", \"would\", text)\n",
    "    text = re.sub(r\"\\b'm\\b\", \"am\", text)\n",
    "    text = re.sub(r\"\\b's\\b\", \"is\", text)\n",
    "    text = re.sub(r\"\\b'n\\b\", \"and\", text)\n",
    "    text = text.lower()\n",
    "    \n",
    "    return text\n",
    "\n",
    "def remove_noise_batch(examples):\n",
    "    examples[\"cleaned_sentence1\"] = [remove_noise(sentence) for sentence in examples[\"sentence1\"]]\n",
    "    examples[\"cleaned_sentence2\"] = [remove_noise(sentence) for sentence in examples[\"sentence2\"]]\n",
    "    return examples"
   ]
  },
  {
   "cell_type": "code",
   "execution_count": 6,
   "id": "1bb32a04-c285-41f4-a514-8be005ea0b65",
   "metadata": {},
   "outputs": [
    {
     "data": {
      "text/plain": [
       "Dataset({\n",
       "    features: ['sentence1', 'sentence2', 'label', 'idx', 'cleaned_sentence1', 'cleaned_sentence2'],\n",
       "    num_rows: 1725\n",
       "})"
      ]
     },
     "execution_count": 6,
     "metadata": {},
     "output_type": "execute_result"
    }
   ],
   "source": [
    "test=dataset['test'].map(remove_noise_batch, batched=True)\n",
    "test"
   ]
  },
  {
   "cell_type": "code",
   "execution_count": 7,
   "id": "ba2a9a37-ee9b-4657-afce-b95743ecc119",
   "metadata": {},
   "outputs": [],
   "source": [
    "# test = test.select(range(10))\n",
    "# test"
   ]
  },
  {
   "cell_type": "code",
   "execution_count": 8,
   "id": "da539576-b592-4dc6-b13c-eddce70fdd64",
   "metadata": {},
   "outputs": [
    {
     "name": "stderr",
     "output_type": "stream",
     "text": [
      "You are using the default legacy behaviour of the <class 'transformers.models.t5.tokenization_t5.T5Tokenizer'>. This is expected, and simply means that the `legacy` (previous) behavior will be used so nothing changes for you. If you want to use the new behaviour, set `legacy=False`. This should only be set if you understand what it means, and thoroughly read the reason why this was added as explained in https://github.com/huggingface/transformers/pull/24565\n"
     ]
    }
   ],
   "source": [
    "# Load pre-trained models and tokenizers\n",
    "# encoder_model_name = \"roberta-base\"  # Encoder-based model\n",
    "# encoder_tokenizer = AutoTokenizer.from_pretrained(encoder_model_name)\n",
    "# encoder_model = AutoModelForSequenceClassification.from_pretrained(encoder_model_name, num_labels=2)\n",
    "\n",
    "encoder_decoder_model_name = \"google-t5/t5-base\"  # Encoder-decoder-based model\n",
    "encoder_decoder_tokenizer = T5Tokenizer.from_pretrained(encoder_decoder_model_name)\n",
    "encoder_decoder_model = T5ForConditionalGeneration.from_pretrained(encoder_decoder_model_name)  #AutoModelForSeq2SeqLM.from_pretrained(encoder_decoder_model_name)\n"
   ]
  },
  {
   "cell_type": "code",
   "execution_count": 9,
   "id": "544e93e8-b856-4ea9-8fc1-b1487be95a6b",
   "metadata": {},
   "outputs": [],
   "source": [
    "# Define a function to create prompts\n",
    "# def create_prompt(sentence1, sentence2):\n",
    "#     return f\"Are these sentences paraphrases? Sentence 1: {sentence1}. Sentence 2: {sentence2}.\"\n",
    "\n",
    "#A paraphrase conveys the same meaning using different words while maintaining the core information. A non-paraphrase has a different meaning or significantly alters the information.  \n",
    "#Are the following sentences paraphrases? Sentence 1: {sentence1}. Sentence 2: {sentence2}\"\"\"\n",
    "\"\"\"\n",
    "            Example 1:\n",
    "            Sentence 1: \"The cat is on the mat.\"\n",
    "            Sentence 2: \"The mat has a cat on it.\"\n",
    "            Answer: paraphrase\n",
    "\n",
    "            Example 2:\n",
    "            Sentence 1: \"The dog is barking.\"\n",
    "            Sentence 2: \"The cat is meowing.\"\n",
    "            Answer: non-paraphrase\"\"\"\n",
    "#Respond strictly with one word: **paraphrase** or **non-paraphrase**\n",
    "\n",
    "def create_prompt(sentence1, sentence2):\n",
    "    #print(\"Sentence1:\",sentence1)\n",
    "    #print(\"Sentence1:\",sentence2)\n",
    "    return f\"\"\"Is the following pair of sentences a paraphrase? Sentence 1: {sentence1} Sentence 2: {sentence2} Answer:\"\"\"\n"
   ]
  },
  {
   "cell_type": "code",
   "execution_count": 10,
   "id": "09a27b7c-97c0-4429-a3d7-eedb6442cbe8",
   "metadata": {},
   "outputs": [],
   "source": [
    "# Function to predict paraphrase using encoder-decoder-based model\n",
    "def predict_paraphrase_encoder_decoder(sentence1, sentence2):\n",
    "    prompt = create_prompt(sentence1, sentence2)\n",
    "    #print(\"Prompt:\",prompt)\n",
    "    inputs = encoder_decoder_tokenizer(prompt, return_tensors=\"pt\", truncation=True, padding=True)\n",
    "    with torch.no_grad():\n",
    "        outputs = encoder_decoder_model.generate(**inputs, max_length=5, num_beams=10,temperature=0.1,do_sample=True)\n",
    "        response = encoder_decoder_tokenizer.decode(outputs[0], skip_special_tokens=True)\n",
    "    #return \"Paraphrase\" if response.lower() == \"yes\" else \"Not Paraphrase\"\n",
    "    #print(f\"Response:{response}\")\n",
    "    #print(response)\n",
    "    #print(\"-----------------------------------------\")\n",
    "    return response  "
   ]
  },
  {
   "cell_type": "code",
   "execution_count": 11,
   "id": "d1c7931b-39e6-402b-8494-78a2ef80073a",
   "metadata": {},
   "outputs": [
    {
     "name": "stderr",
     "output_type": "stream",
     "text": [
      "Asking to truncate to max_length but no maximum length is provided and the model has no predefined maximum length. Default to no truncation.\n"
     ]
    }
   ],
   "source": [
    "results = []\n",
    "for example in test:\n",
    "    sentence1 = example[\"cleaned_sentence1\"]\n",
    "    sentence2 = example[\"cleaned_sentence2\"]\n",
    "    label = example[\"label\"]\n",
    "\n",
    "    prediction = predict_paraphrase_encoder_decoder(sentence1, sentence2)\n",
    "\n",
    "    results.append({\n",
    "        \"sentence1\": sentence1,\n",
    "        \"sentence2\": sentence2,\n",
    "        \"label\": label,\n",
    "        \"predicted_label\": prediction\n",
    "    })\n",
    "    results_df = pd.DataFrame(results)\n",
    "    #print(results_df)\n",
    "    #predicted_label = \"Paraphrase\" if prediction.lower() == \"yes\" else \"Not Paraphrase\""
   ]
  },
  {
   "cell_type": "code",
   "execution_count": 16,
   "id": "dc972240-325c-4902-8e0c-0fdf7a85be66",
   "metadata": {},
   "outputs": [],
   "source": [
    "results_df.to_csv(\"T5_result.csv\")"
   ]
  },
  {
   "cell_type": "code",
   "execution_count": 12,
   "id": "d18e7898-c488-4fcd-8a80-a54ebc2a2da5",
   "metadata": {},
   "outputs": [],
   "source": [
    "# # Function to predict paraphrase using encoder-based model\n",
    "# def predict_paraphrase_encoder(sentence1, sentence2):\n",
    "#     prompt = create_prompt(sentence1, sentence2)\n",
    "#     inputs = encoder_tokenizer(prompt, return_tensors=\"pt\", truncation=True, padding=True)\n",
    "#     with torch.no_grad():\n",
    "#         outputs = encoder_model(**inputs)\n",
    "#         logits = outputs.logits\n",
    "#         predictions = torch.argmax(logits, dim=-1)\n",
    "#     #return \"Paraphrase\" if predictions.item() == 1 else \"Not Paraphrase\"\n",
    "#     return predictions.item()"
   ]
  },
  {
   "cell_type": "code",
   "execution_count": 13,
   "id": "0d6fda8c-7e4c-4638-97a5-95926d0b21b3",
   "metadata": {},
   "outputs": [],
   "source": [
    "# Evaluate on the MRPC validation set\n",
    "def evaluate_on_mrpc(model_type, tokenizer, model, dataset):\n",
    "    correct = 0\n",
    "    total = 0\n",
    "    for example in dataset[\"test\"]:\n",
    "        sentence1 = example[\"sentence1\"]\n",
    "        sentence2 = example[\"sentence2\"]\n",
    "        label = \"Paraphrase\" if example[\"label\"] == 1 else \"Not Paraphrase\"\n",
    "        \n",
    "        if model_type == \"encoder\":\n",
    "            prediction = predict_paraphrase_encoder(sentence1, sentence2)\n",
    "        elif model_type == \"encoder_decoder\":\n",
    "            prediction = predict_paraphrase_encoder_decoder(sentence1, sentence2)\n",
    "        else:\n",
    "            raise ValueError(\"Invalid model type.\")\n",
    "        \n",
    "        if prediction == label:\n",
    "            correct += 1\n",
    "        total += 1\n",
    "    \n",
    "    accuracy = correct / total\n",
    "    return accuracy\n"
   ]
  },
  {
   "cell_type": "code",
   "execution_count": 14,
   "id": "b4a518fc-d54d-496e-b177-91f1b2c15ff2",
   "metadata": {},
   "outputs": [],
   "source": [
    "# # Evaluate encoder-based model\n",
    "# encoder_accuracy = evaluate_on_mrpc(\"encoder\", encoder_tokenizer, encoder_model, dataset)\n",
    "# print(f\"Encoder-Based Model Accuracy: {encoder_accuracy:.4f}\")\n",
    "\n",
    "# # Evaluate encoder-decoder-based model\n",
    "# encoder_decoder_accuracy = evaluate_on_mrpc(\"encoder_decoder\", encoder_decoder_tokenizer, encoder_decoder_model, dataset)\n",
    "# print(f\"Encoder-Decoder-Based Model Accuracy: {encoder_decoder_accuracy:.4f}\")"
   ]
  },
  {
   "cell_type": "code",
   "execution_count": null,
   "id": "755da889-82d0-4bef-876d-e191c77051b5",
   "metadata": {},
   "outputs": [],
   "source": []
  }
 ],
 "metadata": {
  "kernelspec": {
   "display_name": "Python 3 (ipykernel)",
   "language": "python",
   "name": "python3"
  },
  "language_info": {
   "codemirror_mode": {
    "name": "ipython",
    "version": 3
   },
   "file_extension": ".py",
   "mimetype": "text/x-python",
   "name": "python",
   "nbconvert_exporter": "python",
   "pygments_lexer": "ipython3",
   "version": "3.10.14"
  }
 },
 "nbformat": 4,
 "nbformat_minor": 5
}
