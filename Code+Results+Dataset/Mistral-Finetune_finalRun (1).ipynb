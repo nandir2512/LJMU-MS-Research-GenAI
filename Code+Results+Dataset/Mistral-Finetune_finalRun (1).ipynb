{
 "cells": [
  {
   "cell_type": "code",
   "execution_count": null,
   "id": "e03142a3-65fe-4996-bd2c-8492b0cbc0f4",
   "metadata": {},
   "outputs": [],
   "source": [
    "# !pip install --upgrade transformers\n",
    "# !pip install --upgrade transformers accelerate peft bitsandbytes\n",
    "# !pip install datasets\n",
    "# !pip install scikit-learn\n",
    "# !pip install evaluate\n",
    "# !pip install wandb\n",
    "# !pip install matplotlib\n",
    "# !pip install sentencepiece\n",
    "\n",
    "# Set the WIND_API_KEY environment variable\n",
    "#os.environ['WIND_API_KEY'] = ''"
   ]
  },
  {
   "cell_type": "code",
   "execution_count": 2,
   "id": "4c84169c-2b6e-4f51-8629-e794102997c4",
   "metadata": {},
   "outputs": [],
   "source": [
    "import os\n",
    "from transformers import (\n",
    "    AutoTokenizer,\n",
    "    AutoModelForSequenceClassification,\n",
    "    TrainingArguments,\n",
    "    Trainer,\n",
    "    BitsAndBytesConfig,\n",
    "    EarlyStoppingCallback,\n",
    "    DataCollatorWithPadding,\n",
    ")\n",
    "from peft import LoraConfig, get_peft_model, prepare_model_for_kbit_training\n",
    "from datasets import load_dataset\n",
    "import torch\n",
    "import re\n",
    "import numpy as np\n",
    "from sklearn.metrics import accuracy_score, precision_recall_fscore_support\n",
    "import evaluate\n",
    "import matplotlib.pyplot as plt"
   ]
  },
  {
   "cell_type": "code",
   "execution_count": 3,
   "id": "72d20ad1-1cba-4ed0-ba7c-c0a7f35e4b3f",
   "metadata": {},
   "outputs": [
    {
     "data": {
      "text/plain": [
       "DatasetDict({\n",
       "    train: Dataset({\n",
       "        features: ['sentence1', 'sentence2', 'label', 'idx'],\n",
       "        num_rows: 3668\n",
       "    })\n",
       "    validation: Dataset({\n",
       "        features: ['sentence1', 'sentence2', 'label', 'idx'],\n",
       "        num_rows: 408\n",
       "    })\n",
       "    test: Dataset({\n",
       "        features: ['sentence1', 'sentence2', 'label', 'idx'],\n",
       "        num_rows: 1725\n",
       "    })\n",
       "})"
      ]
     },
     "execution_count": 3,
     "metadata": {},
     "output_type": "execute_result"
    }
   ],
   "source": [
    "labeled_final = load_dataset(\"glue\", \"mrpc\")\n",
    "labeled_final"
   ]
  },
  {
   "cell_type": "code",
   "execution_count": 4,
   "id": "7749a616-d90c-4614-ac2d-5d73680ea36b",
   "metadata": {},
   "outputs": [],
   "source": [
    "# Define a function to remove noise\n",
    "def remove_noise(text):\n",
    "    # Remove URLs\n",
    "    text = re.sub(r'https?://\\S+|www\\.\\S+', '', text)\n",
    "    \n",
    "    # Remove special patterns like \"< .SPX >\", \"< .IXIC >\"\n",
    "    text = re.sub(r'< \\.[A-Z]+ >', '', text)\n",
    "    \n",
    "    # Remove ellipsis (...)\n",
    "    text = re.sub(r'\\.\\s*\\.\\s*\\.+', ' ', text)\n",
    "    \n",
    "    # Remove extra spaces\n",
    "    text = re.sub(r'\\s+', ' ', text).strip()\n",
    "    \n",
    "    # Remove special characters like \"â€™\", \"Â½\", \"Â£\", etc.\n",
    "    text = re.sub(r'[â€™Â½Â£]', '', text)\n",
    "    \n",
    "    # Remove single alphabets (e.g., \"C\")\n",
    "    text = re.sub(r'\\b\\w\\b', '', text)\n",
    "    \n",
    "    # Remove equal (=) sign at the end\n",
    "    text = re.sub(r'=$', '', text)\n",
    "    \n",
    "    # Remove double hyphens (--)\n",
    "    text = re.sub(r'--+', '', text)\n",
    "    \n",
    "    # Remove unwanted quotes\n",
    "    text = re.sub(r'[\"“”]', '', text)\n",
    "\n",
    "    # Fix short words with apostrophes (e.g., \"'re\" -> \"are\")\n",
    "    text = re.sub(r\"\\s+'re\\b\", \" are\", text)\n",
    "    text = re.sub(r\"\\b're\\b\", \"are\", text)\n",
    "    text = re.sub(r\"\\b've\\b\", \"have\", text)\n",
    "    text = re.sub(r\"\\b'll\\b\", \"will\", text)\n",
    "    text = re.sub(r\"\\b'd\\b\", \"would\", text)\n",
    "    text = re.sub(r\"\\b'm\\b\", \"am\", text)\n",
    "    text = re.sub(r\"\\b's\\b\", \"is\", text)\n",
    "    text = re.sub(r\"\\b'n\\b\", \"and\", text)\n",
    "    text = text.lower()\n",
    "    \n",
    "    return text\n",
    "\n",
    "def remove_noise_batch(examples):\n",
    "    examples[\"cleaned_sentence1\"] = [remove_noise(sentence) for sentence in examples[\"sentence1\"]]\n",
    "    examples[\"cleaned_sentence2\"] = [remove_noise(sentence) for sentence in examples[\"sentence2\"]]\n",
    "    return examples\n"
   ]
  },
  {
   "cell_type": "code",
   "execution_count": 5,
   "id": "fc0ee207-d49b-4876-b382-cc9c9dba3608",
   "metadata": {},
   "outputs": [],
   "source": [
    "# dataset=labeled_final.map(remove_noise_batch, batched=True)\n",
    "# dataset"
   ]
  },
  {
   "cell_type": "code",
   "execution_count": 6,
   "id": "8a91fff0-4aed-4969-ad04-353f935436bc",
   "metadata": {},
   "outputs": [],
   "source": [
    "# # Define text preprocessing function\n",
    "# def preprocess_text(data):\n",
    "#     contractions = {\"can't\": \"cannot\", \"won't\": \"will not\", \"n't\": \" not\", \"'re\": \" are\", \"'s\": \" is\", \"'d\": \" would\", \"'ll\": \" will\", \"'t\": \" not\", \"'ve\": \" have\", \"'m\": \" am\"}\n",
    "\n",
    "#     def clean_sentence(sentence):\n",
    "#         # 1. Remove extra spaces\n",
    "#         sentence = re.sub(r'\\s+', ' ', sentence.strip())\n",
    "\n",
    "#         # 2. Remove URLs\n",
    "#         sentence = re.sub(r\"http\\S+|www\\S+|https\\S+\", '', sentence)\n",
    "\n",
    "#         # 3. Remove special characters and punctuation (except dots)\n",
    "#         sentence = re.sub(r\"[^\\w\\s.]\", '', sentence)\n",
    "\n",
    "#         # 4. Remove consecutive dots\n",
    "#         sentence = re.sub(r'\\.{3,}', ' ', sentence)\n",
    "\n",
    "#         # 5. Convert to lowercase\n",
    "#         sentence = sentence.lower()\n",
    "\n",
    "#         # 6. Normalize contractions\n",
    "#         sentence = ' '.join([contractions[word] if word in contractions else word for word in sentence.split()])\n",
    "\n",
    "#         return sentence\n",
    "\n",
    "#     for eachsent in range(len(data['sentence1'])):\n",
    "#         data['sentence1'][eachsent] = clean_sentence(data['sentence1'][eachsent])\n",
    "\n",
    "#     for eachsent in range(len(data['sentence2'])):\n",
    "#         data['sentence2'][eachsent] = clean_sentence(data['sentence2'][eachsent])\n",
    "\n",
    "#     return data"
   ]
  },
  {
   "cell_type": "code",
   "execution_count": 7,
   "id": "353439e4-bff2-449b-91e6-7b3e629561fe",
   "metadata": {},
   "outputs": [],
   "source": [
    "train_dataset = labeled_final[\"train\"].map(remove_noise_batch, batched=True)\n",
    "valid_dataset = labeled_final[\"validation\"].map(remove_noise_batch, batched=True)\n",
    "test_dataset = labeled_final[\"test\"].map(remove_noise_batch, batched=True)"
   ]
  },
  {
   "cell_type": "code",
   "execution_count": 8,
   "id": "642d98bb-0ff1-479f-afb8-6c9034512ba6",
   "metadata": {},
   "outputs": [
    {
     "data": {
      "text/plain": [
       "Dataset({\n",
       "    features: ['sentence1', 'sentence2', 'label', 'idx', 'cleaned_sentence1', 'cleaned_sentence2'],\n",
       "    num_rows: 3668\n",
       "})"
      ]
     },
     "execution_count": 8,
     "metadata": {},
     "output_type": "execute_result"
    }
   ],
   "source": [
    "train_dataset"
   ]
  },
  {
   "cell_type": "code",
   "execution_count": 9,
   "id": "41529176-7901-4e3f-92ec-017d100e57b9",
   "metadata": {},
   "outputs": [],
   "source": [
    "# train = train_dataset.select(range(1000))\n",
    "# valid = valid_dataset.select(range(100))\n",
    "# test = test_dataset.select(range(50))\n",
    "#---\n",
    "train = train_dataset\n",
    "valid = valid_dataset\n",
    "test = test_dataset"
   ]
  },
  {
   "cell_type": "code",
   "execution_count": 10,
   "id": "56db88df-96b2-4453-8ba4-7ec5a7140209",
   "metadata": {},
   "outputs": [
    {
     "data": {
      "text/plain": [
       "{'sentence1': 'Amrozi accused his brother , whom he called \" the witness \" , of deliberately distorting his evidence .',\n",
       " 'sentence2': 'Referring to him as only \" the witness \" , Amrozi accused his brother of deliberately distorting his evidence .',\n",
       " 'label': 1,\n",
       " 'idx': 0,\n",
       " 'cleaned_sentence1': 'amrozi accused his brother , whom he called  the witness  , of deliberately distorting his evidence .',\n",
       " 'cleaned_sentence2': 'referring to him as only  the witness  , amrozi accused his brother of deliberately distorting his evidence .'}"
      ]
     },
     "execution_count": 10,
     "metadata": {},
     "output_type": "execute_result"
    }
   ],
   "source": [
    "train[0]"
   ]
  },
  {
   "cell_type": "code",
   "execution_count": null,
   "id": "3c75c83c-ee1f-42c8-a525-794ec941758b",
   "metadata": {},
   "outputs": [],
   "source": [
    "HF_TOKEN=\"\"\n",
    "from huggingface_hub import login\n",
    "login(token=HF_TOKEN)"
   ]
  },
  {
   "cell_type": "code",
   "execution_count": 12,
   "id": "1e282115-ca7f-42d7-9c66-8936d4261cb2",
   "metadata": {},
   "outputs": [],
   "source": [
    "model_name = \"mistralai/Mistral-7B-Instruct-v0.3\"\n",
    "tokenizer = AutoTokenizer.from_pretrained(model_name)\n",
    "\n",
    "tokenizer.pad_token_id = tokenizer.eos_token_id\n",
    "tokenizer.pad_token = tokenizer.eos_token"
   ]
  },
  {
   "cell_type": "code",
   "execution_count": 13,
   "id": "8ab16bc4-120a-4a20-8351-cb484cdecc55",
   "metadata": {},
   "outputs": [
    {
     "data": {
      "application/vnd.jupyter.widget-view+json": {
       "model_id": "f88a8a94cd194e089f57318b83ba5ae4",
       "version_major": 2,
       "version_minor": 0
      },
      "text/plain": [
       "Loading checkpoint shards:   0%|          | 0/3 [00:00<?, ?it/s]"
      ]
     },
     "metadata": {},
     "output_type": "display_data"
    },
    {
     "name": "stderr",
     "output_type": "stream",
     "text": [
      "Some weights of MistralForSequenceClassification were not initialized from the model checkpoint at mistralai/Mistral-7B-Instruct-v0.3 and are newly initialized: ['score.weight']\n",
      "You should probably TRAIN this model on a down-stream task to be able to use it for predictions and inference.\n"
     ]
    }
   ],
   "source": [
    "# Incase of quantization\n",
    "# import torch\n",
    "# from transformers import BitsAndBytesConfig\n",
    "# from peft import LoraConfig, get_peft_model\n",
    "\n",
    "\n",
    "# Define QLORA configuration\n",
    "quantization_config = BitsAndBytesConfig(\n",
    "    load_in_4bit=True,  # Use 4-bit precision\n",
    "    bnb_4bit_use_double_quant=True,  # Double quantization for stability\n",
    "    bnb_4bit_quant_type=\"nf4\",  # Quantization type (e.g., NormalFloat4)\n",
    "    bnb_4bit_compute_dtype=torch.float16  # Computation type\n",
    ")\n",
    "\n",
    "# Define LoRA configuration\n",
    "lora_config = LoraConfig(\n",
    "    r=16,                          # Low-rank size\n",
    "    lora_alpha=32,                # LoRA scaling factor\n",
    "    target_modules=[\"q_proj\", \"v_proj\"],  # Target attention layers (specific to LLaMA)\n",
    "    lora_dropout=0.1,             # Dropout for LoRA layers\n",
    "    bias=\"none\",                  # No bias adaptation\n",
    "    task_type=\"SEQ_CLS\"         # Task type: causal language modeling ###'SEQ_CLS' ###CAUSAL_LM\n",
    ")\n",
    "\n",
    "# Load Model\n",
    "model = AutoModelForSequenceClassification.from_pretrained(\n",
    "    model_name,\n",
    "    quantization_config=quantization_config,\n",
    "    num_labels=2,  # Explicitly set for binary classification\n",
    "    device_map=\"auto\"  # Automatically distribute layers across available GPUs\n",
    ")"
   ]
  },
  {
   "cell_type": "code",
   "execution_count": 14,
   "id": "907d6193-ab73-4d6a-891e-b9045abc9d3f",
   "metadata": {},
   "outputs": [],
   "source": [
    "#call the prepare_model_for_kbit_training() function to preprocess the quantized model for training.\n",
    "# from peft import prepare_model_for_kbit_training\n",
    "\n",
    "model = prepare_model_for_kbit_training(model)\n",
    "\n",
    "\n",
    "#use the get_peft_model() function to create a PeftModel from the quantized model and configuration.\n",
    "# from peft import get_peft_model\n",
    "\n",
    "model = get_peft_model(model, lora_config)"
   ]
  },
  {
   "cell_type": "code",
   "execution_count": 15,
   "id": "2fa0ee1e-7591-4fbc-a9c4-b8a994cd2674",
   "metadata": {},
   "outputs": [],
   "source": [
    "model.config.pad_token_id = tokenizer.pad_token_id\n",
    "model.config.use_cache = False\n",
    "model.config.pretraining_tp = 1"
   ]
  },
  {
   "cell_type": "code",
   "execution_count": 16,
   "id": "ada8ecf5-1ff0-415a-a03c-2fcb2d903607",
   "metadata": {},
   "outputs": [],
   "source": [
    "# Ensure tokenizer has a pad_token\n",
    "if tokenizer.pad_token is None:\n",
    "    tokenizer.add_special_tokens({'pad_token': '[PAD]'})\n",
    "    print(\"Padding token added as [PAD].\")\n",
    "\n",
    "# Resize model embeddings if new token is added\n",
    "if tokenizer.pad_token_id is not None and model.get_input_embeddings().num_embeddings != len(tokenizer):\n",
    "    model.resize_token_embeddings(len(tokenizer))\n",
    "\n",
    "# Set pad_token_id in model configuration\n",
    "model.config.pad_token_id = tokenizer.pad_token_id\n",
    "\n",
    "# Tokenization function\n",
    "def tokenize_function(examples):\n",
    "    return tokenizer(\n",
    "        examples[\"cleaned_sentence1\"],\n",
    "        examples[\"cleaned_sentence2\"],\n",
    "        padding=True,  # Use padding\n",
    "        truncation=True,\n",
    "        max_length=128\n",
    "    )\n",
    "\n",
    "tokenized_train_dataset = train.map(tokenize_function, batched=True)"
   ]
  },
  {
   "cell_type": "code",
   "execution_count": 17,
   "id": "49385a09-7e52-43cc-8e85-31023f147760",
   "metadata": {},
   "outputs": [
    {
     "data": {
      "text/plain": [
       "Dataset({\n",
       "    features: ['sentence1', 'sentence2', 'label', 'idx', 'cleaned_sentence1', 'cleaned_sentence2', 'input_ids', 'attention_mask'],\n",
       "    num_rows: 3668\n",
       "})"
      ]
     },
     "execution_count": 17,
     "metadata": {},
     "output_type": "execute_result"
    }
   ],
   "source": [
    "tokenized_train_dataset"
   ]
  },
  {
   "cell_type": "code",
   "execution_count": 18,
   "id": "1ebcbe0c-8042-4119-bcca-de6a7b7c2c4e",
   "metadata": {},
   "outputs": [
    {
     "data": {
      "application/vnd.jupyter.widget-view+json": {
       "model_id": "1b6d9e3085504afbb4c2f9be85b77e7c",
       "version_major": 2,
       "version_minor": 0
      },
      "text/plain": [
       "Map:   0%|          | 0/408 [00:00<?, ? examples/s]"
      ]
     },
     "metadata": {},
     "output_type": "display_data"
    }
   ],
   "source": [
    "tokenized_test_dataset = test.map(tokenize_function, batched=True)\n",
    "tokenized_valid_dataset = valid.map(tokenize_function, batched=True)"
   ]
  },
  {
   "cell_type": "code",
   "execution_count": 19,
   "id": "6ddde8c6-a23e-4055-8ca0-d218a10b0079",
   "metadata": {},
   "outputs": [
    {
     "data": {
      "text/plain": [
       "Dataset({\n",
       "    features: ['input_ids', 'attention_mask', 'labels'],\n",
       "    num_rows: 3668\n",
       "})"
      ]
     },
     "execution_count": 19,
     "metadata": {},
     "output_type": "execute_result"
    }
   ],
   "source": [
    "# Keep only the necessary features\n",
    "tokenized_train_dataset = tokenized_train_dataset.map(\n",
    "    lambda examples: {\n",
    "        \"input_ids\": examples[\"input_ids\"],\n",
    "        \"attention_mask\": examples[\"attention_mask\"],\n",
    "        \"labels\": examples[\"label\"]\n",
    "    },\n",
    "    remove_columns=[\"idx\", \"sentence1\", \"sentence2\", \"label\",'cleaned_sentence1', 'cleaned_sentence2']\n",
    ")\n",
    "tokenized_train_dataset"
   ]
  },
  {
   "cell_type": "code",
   "execution_count": 20,
   "id": "4359b36e-e45f-4671-a5b3-5a64f494e67e",
   "metadata": {},
   "outputs": [
    {
     "data": {
      "application/vnd.jupyter.widget-view+json": {
       "model_id": "b0ecdded5a9b492e89d5132f647ee6b9",
       "version_major": 2,
       "version_minor": 0
      },
      "text/plain": [
       "Map:   0%|          | 0/408 [00:00<?, ? examples/s]"
      ]
     },
     "metadata": {},
     "output_type": "display_data"
    },
    {
     "data": {
      "text/plain": [
       "Dataset({\n",
       "    features: ['input_ids', 'attention_mask', 'labels'],\n",
       "    num_rows: 408\n",
       "})"
      ]
     },
     "execution_count": 20,
     "metadata": {},
     "output_type": "execute_result"
    }
   ],
   "source": [
    "# Keep only the necessary features\n",
    "tokenized_valid_dataset = tokenized_valid_dataset.map(\n",
    "    lambda examples: {\n",
    "        \"input_ids\": examples[\"input_ids\"],\n",
    "        \"attention_mask\": examples[\"attention_mask\"],\n",
    "        \"labels\": examples[\"label\"]\n",
    "    },\n",
    "    remove_columns=[\"idx\", \"sentence1\", \"sentence2\", \"label\",'cleaned_sentence1', 'cleaned_sentence2']\n",
    ")\n",
    "\n",
    "tokenized_valid_dataset"
   ]
  },
  {
   "cell_type": "code",
   "execution_count": 21,
   "id": "2bee2c83-be8b-4f65-9b23-addcd302615f",
   "metadata": {},
   "outputs": [],
   "source": [
    "# Data collator for padding\n",
    "# from transformers import DataCollatorWithPadding\n",
    "\n",
    "data_collator = DataCollatorWithPadding(tokenizer=tokenizer)"
   ]
  },
  {
   "cell_type": "code",
   "execution_count": null,
   "id": "e2ac358a-9d05-40d4-b5ec-e60ed6331f58",
   "metadata": {},
   "outputs": [],
   "source": [
    "import os\n",
    "# disable Weights and Biases\n",
    "os.environ['WANDB_DISABLED']=\"true\""
   ]
  },
  {
   "cell_type": "code",
   "execution_count": 22,
   "id": "b97ad028-af2f-43f1-88eb-c810d3211d54",
   "metadata": {},
   "outputs": [],
   "source": [
    "training_args = TrainingArguments(\n",
    "    output_dir=\"./results_mistral\",         # Output directory for saved models\n",
    "    learning_rate=2e-5,          # Learning rate\n",
    "    lr_scheduler_type=\"linear\",\n",
    "    per_device_train_batch_size=32, # Training batch size\n",
    "    per_device_eval_batch_size=32, # Evaluation batch size\n",
    "    num_train_epochs=20,            # Number of training epochs\n",
    "    weight_decay=0.1,             # Weight decay\n",
    "    warmup_steps=250,\n",
    "    #save_total_limit=2,            # Save only the 2 most recent models\n",
    "    logging_dir=\"./logs\",          # Log directory\n",
    "    logging_steps=25,              # Log every 50 steps\n",
    "    load_best_model_at_end=True,    # Load the best model at the end of training\n",
    "    eval_strategy=\"epoch\",   # Evaluate after each epoch\n",
    "    save_strategy=\"epoch\",         # Change save_strategy to 'epoch' to match eval_strategy\n",
    "    gradient_accumulation_steps=4, # Added gradient accumulation\n",
    "    fp16=True,                       # Enabled mixed precision training\n",
    "    gradient_checkpointing=True,\n",
    "    max_grad_norm=1.0,\n",
    "    #report_to=\"wandb\"\n",
    ")"
   ]
  },
  {
   "cell_type": "code",
   "execution_count": 23,
   "id": "81476632-9127-4269-90d2-f7166c116a60",
   "metadata": {},
   "outputs": [
    {
     "name": "stdout",
     "output_type": "stream",
     "text": [
      "trainable params: 6,823,936 || all params: 7,120,637,952 || trainable%: 0.0958\n"
     ]
    }
   ],
   "source": [
    "model.print_trainable_parameters()"
   ]
  },
  {
   "cell_type": "code",
   "execution_count": 24,
   "id": "e0a59849-578d-410a-a50e-87d2a18839ac",
   "metadata": {},
   "outputs": [],
   "source": [
    "\n",
    "# Define a metric function\n",
    "def compute_metrics(pred):\n",
    "    labels = pred.label_ids\n",
    "    preds = pred.predictions.argmax(-1)  # Get the class with the highest score\n",
    "\n",
    "    # Calculate accuracy, precision, recall, and F1\n",
    "    accuracy = accuracy_score(labels, preds)\n",
    "    precision, recall, f1, _ = precision_recall_fscore_support(labels, preds, average=\"binary\")\n",
    "\n",
    "    return {\n",
    "        \"accuracy\": accuracy,\n",
    "        \"precision\": precision,\n",
    "        \"recall\": recall,\n",
    "        \"f1\": f1,\n",
    "    }\n",
    "\n",
    "# # Metrics\n",
    "# metric = evaluate.load(\"glue\", \"mrpc\")\n",
    "\n",
    "# def compute_metrics(eval_pred):\n",
    "#     logits, labels = eval_pred\n",
    "#     predictions = np.argmax(logits, axis=-1)\n",
    "#     return metric.compute(predictions=predictions, references=labels)\n",
    "\n",
    "# def compute_metrics(eval_pred):\n",
    "#     logits, labels = eval_pred\n",
    "#     predictions = np.argmax(logits, axis=-1)\n",
    "#     results = metric.compute(predictions=predictions, references=labels)\n",
    "\n",
    "#     print(f\"Results keys: {results.keys()}\") #add this line\n",
    "\n",
    "#     accuracy = results[\"accuracy\"]\n",
    "#     f1 = results[\"f1\"]\n",
    "#     precision = results.get(\"precision\", None)\n",
    "#     recall = results.get(\"recall\", None)\n",
    "\n",
    "#     return {\n",
    "#         \"accuracy\": accuracy,\n",
    "#         \"f1\": f1,\n",
    "#         \"precision\": precision,\n",
    "#         \"recall\": recall,\n",
    "#     }"
   ]
  },
  {
   "cell_type": "code",
   "execution_count": 25,
   "id": "c6c6a232-9f4c-47b5-ac8c-ef15534bf8b6",
   "metadata": {},
   "outputs": [],
   "source": [
    "# from transformers import EarlyStoppingCallback\n",
    "# Early stopping\n",
    "early_stopping_callback = EarlyStoppingCallback(\n",
    "    early_stopping_patience=3,\n",
    "    early_stopping_threshold=0.0,\n",
    ")"
   ]
  },
  {
   "cell_type": "code",
   "execution_count": 26,
   "id": "0a718eb4-8741-4914-b218-e5efa2d8be73",
   "metadata": {},
   "outputs": [
    {
     "name": "stderr",
     "output_type": "stream",
     "text": [
      "No label_names provided for model class `PeftModelForSequenceClassification`. Since `PeftModel` hides base models input arguments, if label_names is not given, label_names can't be set automatically within `Trainer`. Note that empty label_names list will be used instead.\n"
     ]
    }
   ],
   "source": [
    "# from transformers import Trainer\n",
    "\n",
    "trainer = Trainer(\n",
    "    model=model,\n",
    "    args=training_args,\n",
    "    train_dataset=tokenized_train_dataset,\n",
    "    eval_dataset=tokenized_valid_dataset,  # Assuming you have a validation set\n",
    "    #tokenizer=tokenizer,\n",
    "    compute_metrics=compute_metrics,\n",
    "    data_collator=data_collator,\n",
    "    callbacks=[early_stopping_callback],\n",
    ")"
   ]
  },
  {
   "cell_type": "code",
   "execution_count": 27,
   "id": "37b7d9dc-66c1-4c75-b4ee-390e94e79dd4",
   "metadata": {
    "editable": true,
    "slideshow": {
     "slide_type": ""
    },
    "tags": []
   },
   "outputs": [
    {
     "name": "stderr",
     "output_type": "stream",
     "text": [
      "\u001b[34m\u001b[1mwandb\u001b[0m: \u001b[33mWARNING\u001b[0m The `run_name` is currently set to the same value as `TrainingArguments.output_dir`. If this was not intended, please specify a different run name by setting the `TrainingArguments.run_name` parameter.\n",
      "\u001b[34m\u001b[1mwandb\u001b[0m: Using wandb-core as the SDK backend.  Please refer to https://wandb.me/wandb-core for more information.\n",
      "\u001b[34m\u001b[1mwandb\u001b[0m: Logging into wandb.ai. (Learn how to deploy a W&B server locally: https://wandb.me/wandb-server)\n",
      "\u001b[34m\u001b[1mwandb\u001b[0m: You can find your API key in your browser here: https://wandb.ai/authorize\n",
      "\u001b[34m\u001b[1mwandb\u001b[0m: Paste an API key from your profile and hit enter:"
     ]
    },
    {
     "name": "stdout",
     "output_type": "stream",
     "text": [
      "  ········\n"
     ]
    },
    {
     "name": "stderr",
     "output_type": "stream",
     "text": [
      "\u001b[34m\u001b[1mwandb\u001b[0m: \u001b[33mWARNING\u001b[0m If you're specifying your api key in code, ensure this code is not shared publicly.\n",
      "\u001b[34m\u001b[1mwandb\u001b[0m: \u001b[33mWARNING\u001b[0m Consider setting the WANDB_API_KEY environment variable, or running `wandb login` from the command line.\n",
      "\u001b[34m\u001b[1mwandb\u001b[0m: No netrc file found, creating one.\n",
      "\u001b[34m\u001b[1mwandb\u001b[0m: Appending key for api.wandb.ai to your netrc file: /home/.netrc\n",
      "\u001b[34m\u001b[1mwandb\u001b[0m: Currently logged in as: \u001b[33mnandir2512\u001b[0m (\u001b[33mnandir2512-liverpool-john-moores-university\u001b[0m) to \u001b[32mhttps://api.wandb.ai\u001b[0m. Use \u001b[1m`wandb login --relogin`\u001b[0m to force relogin\n"
     ]
    },
    {
     "data": {
      "text/html": [
       "Tracking run with wandb version 0.19.8"
      ],
      "text/plain": [
       "<IPython.core.display.HTML object>"
      ]
     },
     "metadata": {},
     "output_type": "display_data"
    },
    {
     "data": {
      "text/html": [
       "Run data is saved locally in <code>/home/wandb/run-20250316_171255-36v0ceri</code>"
      ],
      "text/plain": [
       "<IPython.core.display.HTML object>"
      ]
     },
     "metadata": {},
     "output_type": "display_data"
    },
    {
     "data": {
      "text/html": [
       "Syncing run <strong><a href='https://wandb.ai/nandir2512-liverpool-john-moores-university/huggingface/runs/36v0ceri' target=\"_blank\">./results_mistral</a></strong> to <a href='https://wandb.ai/nandir2512-liverpool-john-moores-university/huggingface' target=\"_blank\">Weights & Biases</a> (<a href='https://wandb.me/developer-guide' target=\"_blank\">docs</a>)<br>"
      ],
      "text/plain": [
       "<IPython.core.display.HTML object>"
      ]
     },
     "metadata": {},
     "output_type": "display_data"
    },
    {
     "data": {
      "text/html": [
       " View project at <a href='https://wandb.ai/nandir2512-liverpool-john-moores-university/huggingface' target=\"_blank\">https://wandb.ai/nandir2512-liverpool-john-moores-university/huggingface</a>"
      ],
      "text/plain": [
       "<IPython.core.display.HTML object>"
      ]
     },
     "metadata": {},
     "output_type": "display_data"
    },
    {
     "data": {
      "text/html": [
       " View run at <a href='https://wandb.ai/nandir2512-liverpool-john-moores-university/huggingface/runs/36v0ceri' target=\"_blank\">https://wandb.ai/nandir2512-liverpool-john-moores-university/huggingface/runs/36v0ceri</a>"
      ],
      "text/plain": [
       "<IPython.core.display.HTML object>"
      ]
     },
     "metadata": {},
     "output_type": "display_data"
    },
    {
     "name": "stderr",
     "output_type": "stream",
     "text": [
      "/root/miniconda3/envs/py3.10/lib/python3.10/site-packages/torch/utils/checkpoint.py:295: FutureWarning: `torch.cpu.amp.autocast(args...)` is deprecated. Please use `torch.amp.autocast('cpu', args...)` instead.\n",
      "  with torch.enable_grad(), device_autocast_ctx, torch.cpu.amp.autocast(**ctx.cpu_autocast_kwargs):  # type: ignore[attr-defined]\n"
     ]
    },
    {
     "data": {
      "text/html": [
       "\n",
       "    <div>\n",
       "      \n",
       "      <progress value='348' max='560' style='width:300px; height:20px; vertical-align: middle;'></progress>\n",
       "      [348/560 1:20:30 < 49:19, 0.07 it/s, Epoch 12/20]\n",
       "    </div>\n",
       "    <table border=\"1\" class=\"dataframe\">\n",
       "  <thead>\n",
       " <tr style=\"text-align: left;\">\n",
       "      <th>Epoch</th>\n",
       "      <th>Training Loss</th>\n",
       "      <th>Validation Loss</th>\n",
       "      <th>Accuracy</th>\n",
       "      <th>Precision</th>\n",
       "      <th>Recall</th>\n",
       "      <th>F1</th>\n",
       "    </tr>\n",
       "  </thead>\n",
       "  <tbody>\n",
       "    <tr>\n",
       "      <td>1</td>\n",
       "      <td>5.267600</td>\n",
       "      <td>5.059566</td>\n",
       "      <td>0.350490</td>\n",
       "      <td>0.572917</td>\n",
       "      <td>0.197133</td>\n",
       "      <td>0.293333</td>\n",
       "    </tr>\n",
       "    <tr>\n",
       "      <td>2</td>\n",
       "      <td>3.870300</td>\n",
       "      <td>2.789517</td>\n",
       "      <td>0.502451</td>\n",
       "      <td>0.657025</td>\n",
       "      <td>0.569892</td>\n",
       "      <td>0.610365</td>\n",
       "    </tr>\n",
       "    <tr>\n",
       "      <td>3</td>\n",
       "      <td>2.600500</td>\n",
       "      <td>2.116154</td>\n",
       "      <td>0.549020</td>\n",
       "      <td>0.681992</td>\n",
       "      <td>0.637993</td>\n",
       "      <td>0.659259</td>\n",
       "    </tr>\n",
       "    <tr>\n",
       "      <td>4</td>\n",
       "      <td>1.800400</td>\n",
       "      <td>1.624267</td>\n",
       "      <td>0.627451</td>\n",
       "      <td>0.730909</td>\n",
       "      <td>0.720430</td>\n",
       "      <td>0.725632</td>\n",
       "    </tr>\n",
       "    <tr>\n",
       "      <td>5</td>\n",
       "      <td>1.429000</td>\n",
       "      <td>1.281748</td>\n",
       "      <td>0.674020</td>\n",
       "      <td>0.755245</td>\n",
       "      <td>0.774194</td>\n",
       "      <td>0.764602</td>\n",
       "    </tr>\n",
       "    <tr>\n",
       "      <td>6</td>\n",
       "      <td>1.031500</td>\n",
       "      <td>0.962100</td>\n",
       "      <td>0.705882</td>\n",
       "      <td>0.773196</td>\n",
       "      <td>0.806452</td>\n",
       "      <td>0.789474</td>\n",
       "    </tr>\n",
       "    <tr>\n",
       "      <td>7</td>\n",
       "      <td>0.535500</td>\n",
       "      <td>0.791935</td>\n",
       "      <td>0.735294</td>\n",
       "      <td>0.769716</td>\n",
       "      <td>0.874552</td>\n",
       "      <td>0.818792</td>\n",
       "    </tr>\n",
       "    <tr>\n",
       "      <td>8</td>\n",
       "      <td>0.404300</td>\n",
       "      <td>0.730731</td>\n",
       "      <td>0.752451</td>\n",
       "      <td>0.815603</td>\n",
       "      <td>0.824373</td>\n",
       "      <td>0.819964</td>\n",
       "    </tr>\n",
       "    <tr>\n",
       "      <td>9</td>\n",
       "      <td>0.295600</td>\n",
       "      <td>0.715087</td>\n",
       "      <td>0.764706</td>\n",
       "      <td>0.794212</td>\n",
       "      <td>0.885305</td>\n",
       "      <td>0.837288</td>\n",
       "    </tr>\n",
       "    <tr>\n",
       "      <td>10</td>\n",
       "      <td>0.207400</td>\n",
       "      <td>0.726300</td>\n",
       "      <td>0.772059</td>\n",
       "      <td>0.814189</td>\n",
       "      <td>0.863799</td>\n",
       "      <td>0.838261</td>\n",
       "    </tr>\n",
       "    <tr>\n",
       "      <td>11</td>\n",
       "      <td>0.133900</td>\n",
       "      <td>0.863031</td>\n",
       "      <td>0.774510</td>\n",
       "      <td>0.796825</td>\n",
       "      <td>0.899642</td>\n",
       "      <td>0.845118</td>\n",
       "    </tr>\n",
       "    <tr>\n",
       "      <td>12</td>\n",
       "      <td>0.068600</td>\n",
       "      <td>0.953408</td>\n",
       "      <td>0.776961</td>\n",
       "      <td>0.803226</td>\n",
       "      <td>0.892473</td>\n",
       "      <td>0.845501</td>\n",
       "    </tr>\n",
       "  </tbody>\n",
       "</table><p>"
      ],
      "text/plain": [
       "<IPython.core.display.HTML object>"
      ]
     },
     "metadata": {},
     "output_type": "display_data"
    },
    {
     "name": "stderr",
     "output_type": "stream",
     "text": [
      "/root/miniconda3/envs/py3.10/lib/python3.10/site-packages/torch/utils/checkpoint.py:295: FutureWarning: `torch.cpu.amp.autocast(args...)` is deprecated. Please use `torch.amp.autocast('cpu', args...)` instead.\n",
      "  with torch.enable_grad(), device_autocast_ctx, torch.cpu.amp.autocast(**ctx.cpu_autocast_kwargs):  # type: ignore[attr-defined]\n",
      "/root/miniconda3/envs/py3.10/lib/python3.10/site-packages/torch/utils/checkpoint.py:295: FutureWarning: `torch.cpu.amp.autocast(args...)` is deprecated. Please use `torch.amp.autocast('cpu', args...)` instead.\n",
      "  with torch.enable_grad(), device_autocast_ctx, torch.cpu.amp.autocast(**ctx.cpu_autocast_kwargs):  # type: ignore[attr-defined]\n",
      "/root/miniconda3/envs/py3.10/lib/python3.10/site-packages/torch/utils/checkpoint.py:295: FutureWarning: `torch.cpu.amp.autocast(args...)` is deprecated. Please use `torch.amp.autocast('cpu', args...)` instead.\n",
      "  with torch.enable_grad(), device_autocast_ctx, torch.cpu.amp.autocast(**ctx.cpu_autocast_kwargs):  # type: ignore[attr-defined]\n",
      "/root/miniconda3/envs/py3.10/lib/python3.10/site-packages/torch/utils/checkpoint.py:295: FutureWarning: `torch.cpu.amp.autocast(args...)` is deprecated. Please use `torch.amp.autocast('cpu', args...)` instead.\n",
      "  with torch.enable_grad(), device_autocast_ctx, torch.cpu.amp.autocast(**ctx.cpu_autocast_kwargs):  # type: ignore[attr-defined]\n",
      "/root/miniconda3/envs/py3.10/lib/python3.10/site-packages/torch/utils/checkpoint.py:295: FutureWarning: `torch.cpu.amp.autocast(args...)` is deprecated. Please use `torch.amp.autocast('cpu', args...)` instead.\n",
      "  with torch.enable_grad(), device_autocast_ctx, torch.cpu.amp.autocast(**ctx.cpu_autocast_kwargs):  # type: ignore[attr-defined]\n",
      "/root/miniconda3/envs/py3.10/lib/python3.10/site-packages/torch/utils/checkpoint.py:295: FutureWarning: `torch.cpu.amp.autocast(args...)` is deprecated. Please use `torch.amp.autocast('cpu', args...)` instead.\n",
      "  with torch.enable_grad(), device_autocast_ctx, torch.cpu.amp.autocast(**ctx.cpu_autocast_kwargs):  # type: ignore[attr-defined]\n",
      "/root/miniconda3/envs/py3.10/lib/python3.10/site-packages/torch/utils/checkpoint.py:295: FutureWarning: `torch.cpu.amp.autocast(args...)` is deprecated. Please use `torch.amp.autocast('cpu', args...)` instead.\n",
      "  with torch.enable_grad(), device_autocast_ctx, torch.cpu.amp.autocast(**ctx.cpu_autocast_kwargs):  # type: ignore[attr-defined]\n",
      "/root/miniconda3/envs/py3.10/lib/python3.10/site-packages/torch/utils/checkpoint.py:295: FutureWarning: `torch.cpu.amp.autocast(args...)` is deprecated. Please use `torch.amp.autocast('cpu', args...)` instead.\n",
      "  with torch.enable_grad(), device_autocast_ctx, torch.cpu.amp.autocast(**ctx.cpu_autocast_kwargs):  # type: ignore[attr-defined]\n",
      "/root/miniconda3/envs/py3.10/lib/python3.10/site-packages/torch/utils/checkpoint.py:295: FutureWarning: `torch.cpu.amp.autocast(args...)` is deprecated. Please use `torch.amp.autocast('cpu', args...)` instead.\n",
      "  with torch.enable_grad(), device_autocast_ctx, torch.cpu.amp.autocast(**ctx.cpu_autocast_kwargs):  # type: ignore[attr-defined]\n",
      "/root/miniconda3/envs/py3.10/lib/python3.10/site-packages/torch/utils/checkpoint.py:295: FutureWarning: `torch.cpu.amp.autocast(args...)` is deprecated. Please use `torch.amp.autocast('cpu', args...)` instead.\n",
      "  with torch.enable_grad(), device_autocast_ctx, torch.cpu.amp.autocast(**ctx.cpu_autocast_kwargs):  # type: ignore[attr-defined]\n",
      "/root/miniconda3/envs/py3.10/lib/python3.10/site-packages/torch/utils/checkpoint.py:295: FutureWarning: `torch.cpu.amp.autocast(args...)` is deprecated. Please use `torch.amp.autocast('cpu', args...)` instead.\n",
      "  with torch.enable_grad(), device_autocast_ctx, torch.cpu.amp.autocast(**ctx.cpu_autocast_kwargs):  # type: ignore[attr-defined]\n"
     ]
    }
   ],
   "source": [
    "training_history = trainer.train()"
   ]
  },
  {
   "cell_type": "code",
   "execution_count": 28,
   "id": "f60b92b8-4eb2-4c51-87e5-7f12df0e11ee",
   "metadata": {},
   "outputs": [
    {
     "data": {
      "text/html": [],
      "text/plain": [
       "<IPython.core.display.HTML object>"
      ]
     },
     "metadata": {},
     "output_type": "display_data"
    },
    {
     "name": "stdout",
     "output_type": "stream",
     "text": [
      "{'eval_loss': 0.715086817741394, 'eval_accuracy': 0.7647058823529411, 'eval_precision': 0.7942122186495176, 'eval_recall': 0.8853046594982079, 'eval_f1': 0.8372881355932204, 'eval_runtime': 11.8352, 'eval_samples_per_second': 34.473, 'eval_steps_per_second': 1.098, 'epoch': 12.0}\n"
     ]
    }
   ],
   "source": [
    "# Evaluate\n",
    "eval_results = trainer.evaluate()\n",
    "print(eval_results)"
   ]
  },
  {
   "cell_type": "code",
   "execution_count": 29,
   "id": "13b57262-cba2-44de-8916-cac63a4978a5",
   "metadata": {
    "scrolled": true
   },
   "outputs": [],
   "source": [
    "#training_history\n",
    "#trainer.state.log_history"
   ]
  },
  {
   "cell_type": "code",
   "execution_count": 30,
   "id": "91de62bf-1b39-4c83-bc32-8f06b2a5a56d",
   "metadata": {},
   "outputs": [
    {
     "data": {
      "image/png": "[encoded data removed]",
      "text/plain": [
       "<Figure size 1200x500 with 2 Axes>"
      ]
     },
     "metadata": {},
     "output_type": "display_data"
    }
   ],
   "source": [
    "# Extract data from log_history\n",
    "log_history = trainer.state.log_history\n",
    "\n",
    "# Initialize lists to store data\n",
    "epochs = []\n",
    "train_losses = []\n",
    "val_losses = []\n",
    "train_accuracies = []\n",
    "val_accuracies = []\n",
    "\n",
    "# Parse log_history\n",
    "for log in log_history:\n",
    "    if 'loss' in log and 'epoch' in log:  # Training step\n",
    "        epochs.append(log['epoch'])\n",
    "        train_losses.append(log['loss'])\n",
    "        if 'accuracy' in log:\n",
    "            train_accuracies.append(log['accuracy'])\n",
    "    elif 'eval_loss' in log and 'epoch' in log:  # Validation step\n",
    "        val_losses.append(log['eval_loss'])\n",
    "        if 'eval_accuracy' in log:\n",
    "            val_accuracies.append(log['eval_accuracy'])\n",
    "\n",
    "# Plot Loss Curve\n",
    "plt.figure(figsize=(12, 5))\n",
    "plt.subplot(1, 2, 1)\n",
    "plt.plot(epochs[:len(train_losses)], train_losses, label='Training Loss')\n",
    "plt.plot(epochs[:len(val_losses)], val_losses, label='Validation Loss')\n",
    "plt.xlabel('Epochs')\n",
    "plt.ylabel('Loss')\n",
    "plt.title('Training vs. Validation Loss')\n",
    "plt.legend()\n",
    "\n",
    "# Plot Accuracy Curve\n",
    "plt.subplot(1, 2, 2)\n",
    "#plt.plot(epochs[:len(train_accuracies)], train_accuracies, label='Training Accuracy')\n",
    "plt.plot(epochs[:len(val_accuracies)], val_accuracies, label='Validation Accuracy')\n",
    "plt.xlabel('Epochs')\n",
    "plt.ylabel('Accuracy')\n",
    "plt.title(' Validation Accuracy Curve')\n",
    "plt.legend()\n",
    "\n",
    "plt.tight_layout()\n",
    "plt.show()"
   ]
  },
  {
   "cell_type": "code",
   "execution_count": 31,
   "id": "2cf6ae67-3903-4ee7-a0fd-8ad6fbc8dc26",
   "metadata": {},
   "outputs": [],
   "source": [
    "# # Initialize lists to store data\n",
    "# epochs = []\n",
    "# train_losses = []\n",
    "# eval_losses = []\n",
    "# eval_accuracies = []\n",
    "# eval_precisions = []\n",
    "# eval_recalls = []\n",
    "# eval_f1s = []\n",
    "\n",
    "# # Parse log_history\n",
    "# for log in log_history:\n",
    "#     if 'loss' in log and 'epoch' in log:  # Training step\n",
    "#         epochs.append(log['epoch'])\n",
    "#         train_losses.append(log['loss'])\n",
    "#     elif 'eval_loss' in log and 'epoch' in log:  # Validation step\n",
    "#         eval_losses.append(log['eval_loss'])\n",
    "#         eval_accuracies.append(log['eval_accuracy'])\n",
    "#         eval_precisions.append(log['eval_precision'])\n",
    "#         eval_recalls.append(log['eval_recall'])\n",
    "#         eval_f1s.append(log['eval_f1'])\n",
    "\n",
    "# # Plot Training Loss vs Validation Loss\n",
    "# plt.figure(figsize=(12, 5))\n",
    "# plt.subplot(1, 2, 1)\n",
    "# plt.plot(epochs[:len(train_losses)], train_losses, label='Training Loss')\n",
    "# plt.plot(epochs[:len(eval_losses)], eval_losses, label='Validation Loss')\n",
    "# plt.xlabel('Epochs')\n",
    "# plt.ylabel('Loss')\n",
    "# plt.title('Training vs Validation Loss')\n",
    "# plt.legend()\n",
    "\n",
    "# # Plot Validation Metrics (Accuracy, Precision, Recall, F1-score)\n",
    "# plt.subplot(1, 2, 2)\n",
    "# plt.plot(epochs[:len(eval_accuracies)], eval_accuracies, label='Validation Accuracy')\n",
    "# plt.plot(epochs[:len(eval_precisions)], eval_precisions, label='Validation Precision')\n",
    "# plt.plot(epochs[:len(eval_recalls)], eval_recalls, label='Validation Recall')\n",
    "# plt.plot(epochs[:len(eval_f1s)], eval_f1s, label='Validation F1-score')\n",
    "# plt.xlabel('Epochs')\n",
    "# plt.ylabel('Score')\n",
    "# plt.title('Validation Metrics')\n",
    "# plt.legend()\n",
    "\n",
    "# plt.tight_layout()\n",
    "# plt.show()"
   ]
  },
  {
   "cell_type": "code",
   "execution_count": 32,
   "id": "1d05195b-7a08-4c9c-8908-4cf76419a5ae",
   "metadata": {},
   "outputs": [
    {
     "data": {
      "application/vnd.jupyter.widget-view+json": {
       "model_id": "1cb130b795db46a1a446004b94550590",
       "version_major": 2,
       "version_minor": 0
      },
      "text/plain": [
       "Map:   0%|          | 0/1725 [00:00<?, ? examples/s]"
      ]
     },
     "metadata": {},
     "output_type": "display_data"
    },
    {
     "data": {
      "text/plain": [
       "Dataset({\n",
       "    features: ['input_ids', 'labels'],\n",
       "    num_rows: 1725\n",
       "})"
      ]
     },
     "execution_count": 32,
     "metadata": {},
     "output_type": "execute_result"
    }
   ],
   "source": [
    "# Keep only the necessary features\n",
    "tokenized_test_dataset = tokenized_test_dataset.map(\n",
    "    lambda examples: {\n",
    "        \"input_ids\": examples[\"input_ids\"],\n",
    "        #\"attention_mask\": examples[\"attention_mask\"],\n",
    "        \"labels\": examples[\"label\"]\n",
    "    },\n",
    "    remove_columns=[\"idx\", \"sentence1\", \"sentence2\", \"label\",'cleaned_sentence1', 'cleaned_sentence2','attention_mask']\n",
    ")\n",
    "#\"\n",
    "tokenized_test_dataset"
   ]
  },
  {
   "cell_type": "code",
   "execution_count": 33,
   "id": "7c6bb4e3-c0a8-4265-b014-7fc7de63a052",
   "metadata": {},
   "outputs": [
    {
     "data": {
      "text/plain": [
       "Dataset({\n",
       "    features: ['input_ids', 'labels'],\n",
       "    num_rows: 1725\n",
       "})"
      ]
     },
     "execution_count": 33,
     "metadata": {},
     "output_type": "execute_result"
    }
   ],
   "source": [
    "tokenized_test_dataset"
   ]
  },
  {
   "cell_type": "code",
   "execution_count": 34,
   "id": "1878ba37-de59-4c0d-83d7-abb7638c590d",
   "metadata": {},
   "outputs": [
    {
     "data": {
      "text/plain": [
       "PredictionOutput(predictions=array([[-3.7617188 ,  0.20361328],\n",
       "       [-1.0527344 ,  3.8867188 ],\n",
       "       [-3.0332031 ,  0.5317383 ],\n",
       "       ...,\n",
       "       [ 1.140625  ,  1.0322266 ],\n",
       "       [-1.2714844 ,  3.7421875 ],\n",
       "       [ 2.3144531 ,  4.046875  ]], dtype=float32), label_ids=array([1, 1, 1, ..., 0, 1, 1]), metrics={'test_loss': 0.8288868069648743, 'test_accuracy': 0.6579710144927536, 'test_precision': 0.7415437987857763, 'test_recall': 0.7454228421970357, 'test_f1': 0.7434782608695653, 'test_runtime': 57.2905, 'test_samples_per_second': 30.11, 'test_steps_per_second': 0.943})"
      ]
     },
     "execution_count": 34,
     "metadata": {},
     "output_type": "execute_result"
    }
   ],
   "source": [
    "predictions = trainer.predict(tokenized_test_dataset)\n",
    "predictions"
   ]
  },
  {
   "cell_type": "code",
   "execution_count": 35,
   "id": "409f5b57-caa0-4e88-8f01-034f197434f6",
   "metadata": {},
   "outputs": [
    {
     "name": "stdout",
     "output_type": "stream",
     "text": [
      "Test Accuracy: 0.6579710144927536\n",
      "Test Precision: 0.7415437987857763\n",
      "Test Recall: 0.7454228421970357\n",
      "Test F1-score: 0.7434782608695653\n"
     ]
    }
   ],
   "source": [
    "# Get the logits\n",
    "logits = predictions.predictions\n",
    "\n",
    "# Convert logits to predicted class labels\n",
    "predicted_labels = np.argmax(logits, axis=-1)\n",
    "\n",
    "# Get the actual labels from the test dataset (if available)\n",
    "actual_labels = tokenized_test_dataset['labels']\n",
    "\n",
    "accuracy = accuracy_score(actual_labels, predicted_labels)\n",
    "precision, recall, f1, _ = precision_recall_fscore_support(actual_labels, predicted_labels, average='binary')\n",
    "\n",
    "print(f\"Test Accuracy: {accuracy}\")\n",
    "print(f\"Test Precision: {precision}\")\n",
    "print(f\"Test Recall: {recall}\")\n",
    "print(f\"Test F1-score: {f1}\")"
   ]
  },
  {
   "cell_type": "code",
   "execution_count": null,
   "id": "cefc7426-b876-4032-afea-85929facbab1",
   "metadata": {},
   "outputs": [],
   "source": []
  }
 ],
 "metadata": {
  "kernelspec": {
   "display_name": "Python 3 (ipykernel)",
   "language": "python",
   "name": "python3"
  },
  "language_info": {
   "codemirror_mode": {
    "name": "ipython",
    "version": 3
   },
   "file_extension": ".py",
   "mimetype": "text/x-python",
   "name": "python",
   "nbconvert_exporter": "python",
   "pygments_lexer": "ipython3",
   "version": "3.10.14"
  }
 },
 "nbformat": 4,
 "nbformat_minor": 5
}
