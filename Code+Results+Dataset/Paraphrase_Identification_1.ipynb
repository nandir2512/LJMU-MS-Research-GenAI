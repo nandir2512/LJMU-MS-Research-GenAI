{
  "nbformat": 4,
  "nbformat_minor": 0,
  "metadata": {
    "colab": {
      "provenance": [],
      "gpuType": "T4"
    },
    "kernelspec": {
      "name": "python3",
      "display_name": "Python 3"
    },
    "language_info": {
      "name": "python"
    },
    "accelerator": "GPU",
    "widgets": {
      "application/vnd.jupyter.widget-state+json": {
        "d28c48d87a1a4cb9a9ffccbe777cb0ba": {
          "model_module": "@jupyter-widgets/controls",
          "model_name": "HBoxModel",
          "model_module_version": "1.5.0",
          "state": {
            "_dom_classes": [],
            "_model_module": "@jupyter-widgets/controls",
            "_model_module_version": "1.5.0",
            "_model_name": "HBoxModel",
            "_view_count": null,
            "_view_module": "@jupyter-widgets/controls",
            "_view_module_version": "1.5.0",
            "_view_name": "HBoxView",
            "box_style": "",
            "children": [
              "IPY_MODEL_4393157571ef410aa954e8390d34978b",
              "IPY_MODEL_85bc0fcc5e10465a8f5a69c33a2903dd",
              "IPY_MODEL_bbd743b94ba4498ea6b96be3d96fa0f0"
            ],
            "layout": "IPY_MODEL_e6b0d0fde51d402b97e5a6b3627d1f82"
          }
        },
        "4393157571ef410aa954e8390d34978b": {
          "model_module": "@jupyter-widgets/controls",
          "model_name": "HTMLModel",
          "model_module_version": "1.5.0",
          "state": {
            "_dom_classes": [],
            "_model_module": "@jupyter-widgets/controls",
            "_model_module_version": "1.5.0",
            "_model_name": "HTMLModel",
            "_view_count": null,
            "_view_module": "@jupyter-widgets/controls",
            "_view_module_version": "1.5.0",
            "_view_name": "HTMLView",
            "description": "",
            "description_tooltip": null,
            "layout": "IPY_MODEL_2d89cd2e079842978b2dca15313de6ba",
            "placeholder": "​",
            "style": "IPY_MODEL_82372415ede84a96a8ed7d60acceb184",
            "value": "Map: 100%"
          }
        },
        "85bc0fcc5e10465a8f5a69c33a2903dd": {
          "model_module": "@jupyter-widgets/controls",
          "model_name": "FloatProgressModel",
          "model_module_version": "1.5.0",
          "state": {
            "_dom_classes": [],
            "_model_module": "@jupyter-widgets/controls",
            "_model_module_version": "1.5.0",
            "_model_name": "FloatProgressModel",
            "_view_count": null,
            "_view_module": "@jupyter-widgets/controls",
            "_view_module_version": "1.5.0",
            "_view_name": "ProgressView",
            "bar_style": "success",
            "description": "",
            "description_tooltip": null,
            "layout": "IPY_MODEL_d57c40e668344974939b4ec88fc719ce",
            "max": 50,
            "min": 0,
            "orientation": "horizontal",
            "style": "IPY_MODEL_f21cd7ca6ef7486d823b42bdaa0f7d79",
            "value": 50
          }
        },
        "bbd743b94ba4498ea6b96be3d96fa0f0": {
          "model_module": "@jupyter-widgets/controls",
          "model_name": "HTMLModel",
          "model_module_version": "1.5.0",
          "state": {
            "_dom_classes": [],
            "_model_module": "@jupyter-widgets/controls",
            "_model_module_version": "1.5.0",
            "_model_name": "HTMLModel",
            "_view_count": null,
            "_view_module": "@jupyter-widgets/controls",
            "_view_module_version": "1.5.0",
            "_view_name": "HTMLView",
            "description": "",
            "description_tooltip": null,
            "layout": "IPY_MODEL_d69e68eba3d14bd783d43b7f8f1e7f26",
            "placeholder": "​",
            "style": "IPY_MODEL_73d4cf0156de41a48ff7746e3c9d65fa",
            "value": " 50/50 [00:00&lt;00:00, 1235.10 examples/s]"
          }
        },
        "e6b0d0fde51d402b97e5a6b3627d1f82": {
          "model_module": "@jupyter-widgets/base",
          "model_name": "LayoutModel",
          "model_module_version": "1.2.0",
          "state": {
            "_model_module": "@jupyter-widgets/base",
            "_model_module_version": "1.2.0",
            "_model_name": "LayoutModel",
            "_view_count": null,
            "_view_module": "@jupyter-widgets/base",
            "_view_module_version": "1.2.0",
            "_view_name": "LayoutView",
            "align_content": null,
            "align_items": null,
            "align_self": null,
            "border": null,
            "bottom": null,
            "display": null,
            "flex": null,
            "flex_flow": null,
            "grid_area": null,
            "grid_auto_columns": null,
            "grid_auto_flow": null,
            "grid_auto_rows": null,
            "grid_column": null,
            "grid_gap": null,
            "grid_row": null,
            "grid_template_areas": null,
            "grid_template_columns": null,
            "grid_template_rows": null,
            "height": null,
            "justify_content": null,
            "justify_items": null,
            "left": null,
            "margin": null,
            "max_height": null,
            "max_width": null,
            "min_height": null,
            "min_width": null,
            "object_fit": null,
            "object_position": null,
            "order": null,
            "overflow": null,
            "overflow_x": null,
            "overflow_y": null,
            "padding": null,
            "right": null,
            "top": null,
            "visibility": null,
            "width": null
          }
        },
        "2d89cd2e079842978b2dca15313de6ba": {
          "model_module": "@jupyter-widgets/base",
          "model_name": "LayoutModel",
          "model_module_version": "1.2.0",
          "state": {
            "_model_module": "@jupyter-widgets/base",
            "_model_module_version": "1.2.0",
            "_model_name": "LayoutModel",
            "_view_count": null,
            "_view_module": "@jupyter-widgets/base",
            "_view_module_version": "1.2.0",
            "_view_name": "LayoutView",
            "align_content": null,
            "align_items": null,
            "align_self": null,
            "border": null,
            "bottom": null,
            "display": null,
            "flex": null,
            "flex_flow": null,
            "grid_area": null,
            "grid_auto_columns": null,
            "grid_auto_flow": null,
            "grid_auto_rows": null,
            "grid_column": null,
            "grid_gap": null,
            "grid_row": null,
            "grid_template_areas": null,
            "grid_template_columns": null,
            "grid_template_rows": null,
            "height": null,
            "justify_content": null,
            "justify_items": null,
            "left": null,
            "margin": null,
            "max_height": null,
            "max_width": null,
            "min_height": null,
            "min_width": null,
            "object_fit": null,
            "object_position": null,
            "order": null,
            "overflow": null,
            "overflow_x": null,
            "overflow_y": null,
            "padding": null,
            "right": null,
            "top": null,
            "visibility": null,
            "width": null
          }
        },
        "82372415ede84a96a8ed7d60acceb184": {
          "model_module": "@jupyter-widgets/controls",
          "model_name": "DescriptionStyleModel",
          "model_module_version": "1.5.0",
          "state": {
            "_model_module": "@jupyter-widgets/controls",
            "_model_module_version": "1.5.0",
            "_model_name": "DescriptionStyleModel",
            "_view_count": null,
            "_view_module": "@jupyter-widgets/base",
            "_view_module_version": "1.2.0",
            "_view_name": "StyleView",
            "description_width": ""
          }
        },
        "d57c40e668344974939b4ec88fc719ce": {
          "model_module": "@jupyter-widgets/base",
          "model_name": "LayoutModel",
          "model_module_version": "1.2.0",
          "state": {
            "_model_module": "@jupyter-widgets/base",
            "_model_module_version": "1.2.0",
            "_model_name": "LayoutModel",
            "_view_count": null,
            "_view_module": "@jupyter-widgets/base",
            "_view_module_version": "1.2.0",
            "_view_name": "LayoutView",
            "align_content": null,
            "align_items": null,
            "align_self": null,
            "border": null,
            "bottom": null,
            "display": null,
            "flex": null,
            "flex_flow": null,
            "grid_area": null,
            "grid_auto_columns": null,
            "grid_auto_flow": null,
            "grid_auto_rows": null,
            "grid_column": null,
            "grid_gap": null,
            "grid_row": null,
            "grid_template_areas": null,
            "grid_template_columns": null,
            "grid_template_rows": null,
            "height": null,
            "justify_content": null,
            "justify_items": null,
            "left": null,
            "margin": null,
            "max_height": null,
            "max_width": null,
            "min_height": null,
            "min_width": null,
            "object_fit": null,
            "object_position": null,
            "order": null,
            "overflow": null,
            "overflow_x": null,
            "overflow_y": null,
            "padding": null,
            "right": null,
            "top": null,
            "visibility": null,
            "width": null
          }
        },
        "f21cd7ca6ef7486d823b42bdaa0f7d79": {
          "model_module": "@jupyter-widgets/controls",
          "model_name": "ProgressStyleModel",
          "model_module_version": "1.5.0",
          "state": {
            "_model_module": "@jupyter-widgets/controls",
            "_model_module_version": "1.5.0",
            "_model_name": "ProgressStyleModel",
            "_view_count": null,
            "_view_module": "@jupyter-widgets/base",
            "_view_module_version": "1.2.0",
            "_view_name": "StyleView",
            "bar_color": null,
            "description_width": ""
          }
        },
        "d69e68eba3d14bd783d43b7f8f1e7f26": {
          "model_module": "@jupyter-widgets/base",
          "model_name": "LayoutModel",
          "model_module_version": "1.2.0",
          "state": {
            "_model_module": "@jupyter-widgets/base",
            "_model_module_version": "1.2.0",
            "_model_name": "LayoutModel",
            "_view_count": null,
            "_view_module": "@jupyter-widgets/base",
            "_view_module_version": "1.2.0",
            "_view_name": "LayoutView",
            "align_content": null,
            "align_items": null,
            "align_self": null,
            "border": null,
            "bottom": null,
            "display": null,
            "flex": null,
            "flex_flow": null,
            "grid_area": null,
            "grid_auto_columns": null,
            "grid_auto_flow": null,
            "grid_auto_rows": null,
            "grid_column": null,
            "grid_gap": null,
            "grid_row": null,
            "grid_template_areas": null,
            "grid_template_columns": null,
            "grid_template_rows": null,
            "height": null,
            "justify_content": null,
            "justify_items": null,
            "left": null,
            "margin": null,
            "max_height": null,
            "max_width": null,
            "min_height": null,
            "min_width": null,
            "object_fit": null,
            "object_position": null,
            "order": null,
            "overflow": null,
            "overflow_x": null,
            "overflow_y": null,
            "padding": null,
            "right": null,
            "top": null,
            "visibility": null,
            "width": null
          }
        },
        "73d4cf0156de41a48ff7746e3c9d65fa": {
          "model_module": "@jupyter-widgets/controls",
          "model_name": "DescriptionStyleModel",
          "model_module_version": "1.5.0",
          "state": {
            "_model_module": "@jupyter-widgets/controls",
            "_model_module_version": "1.5.0",
            "_model_name": "DescriptionStyleModel",
            "_view_count": null,
            "_view_module": "@jupyter-widgets/base",
            "_view_module_version": "1.2.0",
            "_view_name": "StyleView",
            "description_width": ""
          }
        },
        "3d3c1cbd61844977b255cbad8aed8a7b": {
          "model_module": "@jupyter-widgets/controls",
          "model_name": "HBoxModel",
          "model_module_version": "1.5.0",
          "state": {
            "_dom_classes": [],
            "_model_module": "@jupyter-widgets/controls",
            "_model_module_version": "1.5.0",
            "_model_name": "HBoxModel",
            "_view_count": null,
            "_view_module": "@jupyter-widgets/controls",
            "_view_module_version": "1.5.0",
            "_view_name": "HBoxView",
            "box_style": "",
            "children": [
              "IPY_MODEL_86e32fd39769490684719fed5446320e",
              "IPY_MODEL_94715dae142644369093348324bfc00f",
              "IPY_MODEL_7753b624964344dc8a749073523049ce"
            ],
            "layout": "IPY_MODEL_a318c82776d0412d986fe440c5773a3f"
          }
        },
        "86e32fd39769490684719fed5446320e": {
          "model_module": "@jupyter-widgets/controls",
          "model_name": "HTMLModel",
          "model_module_version": "1.5.0",
          "state": {
            "_dom_classes": [],
            "_model_module": "@jupyter-widgets/controls",
            "_model_module_version": "1.5.0",
            "_model_name": "HTMLModel",
            "_view_count": null,
            "_view_module": "@jupyter-widgets/controls",
            "_view_module_version": "1.5.0",
            "_view_name": "HTMLView",
            "description": "",
            "description_tooltip": null,
            "layout": "IPY_MODEL_1cfacec2b13f458c9025658b4925e9ee",
            "placeholder": "​",
            "style": "IPY_MODEL_35bad2cb88bb4d4796172eea9fbf72ef",
            "value": "Map: 100%"
          }
        },
        "94715dae142644369093348324bfc00f": {
          "model_module": "@jupyter-widgets/controls",
          "model_name": "FloatProgressModel",
          "model_module_version": "1.5.0",
          "state": {
            "_dom_classes": [],
            "_model_module": "@jupyter-widgets/controls",
            "_model_module_version": "1.5.0",
            "_model_name": "FloatProgressModel",
            "_view_count": null,
            "_view_module": "@jupyter-widgets/controls",
            "_view_module_version": "1.5.0",
            "_view_name": "ProgressView",
            "bar_style": "success",
            "description": "",
            "description_tooltip": null,
            "layout": "IPY_MODEL_6280569b4632406fbf194206680a7559",
            "max": 50,
            "min": 0,
            "orientation": "horizontal",
            "style": "IPY_MODEL_81d75a403101482582f8b933c0fa217d",
            "value": 50
          }
        },
        "7753b624964344dc8a749073523049ce": {
          "model_module": "@jupyter-widgets/controls",
          "model_name": "HTMLModel",
          "model_module_version": "1.5.0",
          "state": {
            "_dom_classes": [],
            "_model_module": "@jupyter-widgets/controls",
            "_model_module_version": "1.5.0",
            "_model_name": "HTMLModel",
            "_view_count": null,
            "_view_module": "@jupyter-widgets/controls",
            "_view_module_version": "1.5.0",
            "_view_name": "HTMLView",
            "description": "",
            "description_tooltip": null,
            "layout": "IPY_MODEL_536730c0d14649fbad867e50b84a3851",
            "placeholder": "​",
            "style": "IPY_MODEL_75f3329bdfc04a208a8c429ceb94150f",
            "value": " 50/50 [00:00&lt;00:00, 1075.88 examples/s]"
          }
        },
        "a318c82776d0412d986fe440c5773a3f": {
          "model_module": "@jupyter-widgets/base",
          "model_name": "LayoutModel",
          "model_module_version": "1.2.0",
          "state": {
            "_model_module": "@jupyter-widgets/base",
            "_model_module_version": "1.2.0",
            "_model_name": "LayoutModel",
            "_view_count": null,
            "_view_module": "@jupyter-widgets/base",
            "_view_module_version": "1.2.0",
            "_view_name": "LayoutView",
            "align_content": null,
            "align_items": null,
            "align_self": null,
            "border": null,
            "bottom": null,
            "display": null,
            "flex": null,
            "flex_flow": null,
            "grid_area": null,
            "grid_auto_columns": null,
            "grid_auto_flow": null,
            "grid_auto_rows": null,
            "grid_column": null,
            "grid_gap": null,
            "grid_row": null,
            "grid_template_areas": null,
            "grid_template_columns": null,
            "grid_template_rows": null,
            "height": null,
            "justify_content": null,
            "justify_items": null,
            "left": null,
            "margin": null,
            "max_height": null,
            "max_width": null,
            "min_height": null,
            "min_width": null,
            "object_fit": null,
            "object_position": null,
            "order": null,
            "overflow": null,
            "overflow_x": null,
            "overflow_y": null,
            "padding": null,
            "right": null,
            "top": null,
            "visibility": null,
            "width": null
          }
        },
        "1cfacec2b13f458c9025658b4925e9ee": {
          "model_module": "@jupyter-widgets/base",
          "model_name": "LayoutModel",
          "model_module_version": "1.2.0",
          "state": {
            "_model_module": "@jupyter-widgets/base",
            "_model_module_version": "1.2.0",
            "_model_name": "LayoutModel",
            "_view_count": null,
            "_view_module": "@jupyter-widgets/base",
            "_view_module_version": "1.2.0",
            "_view_name": "LayoutView",
            "align_content": null,
            "align_items": null,
            "align_self": null,
            "border": null,
            "bottom": null,
            "display": null,
            "flex": null,
            "flex_flow": null,
            "grid_area": null,
            "grid_auto_columns": null,
            "grid_auto_flow": null,
            "grid_auto_rows": null,
            "grid_column": null,
            "grid_gap": null,
            "grid_row": null,
            "grid_template_areas": null,
            "grid_template_columns": null,
            "grid_template_rows": null,
            "height": null,
            "justify_content": null,
            "justify_items": null,
            "left": null,
            "margin": null,
            "max_height": null,
            "max_width": null,
            "min_height": null,
            "min_width": null,
            "object_fit": null,
            "object_position": null,
            "order": null,
            "overflow": null,
            "overflow_x": null,
            "overflow_y": null,
            "padding": null,
            "right": null,
            "top": null,
            "visibility": null,
            "width": null
          }
        },
        "35bad2cb88bb4d4796172eea9fbf72ef": {
          "model_module": "@jupyter-widgets/controls",
          "model_name": "DescriptionStyleModel",
          "model_module_version": "1.5.0",
          "state": {
            "_model_module": "@jupyter-widgets/controls",
            "_model_module_version": "1.5.0",
            "_model_name": "DescriptionStyleModel",
            "_view_count": null,
            "_view_module": "@jupyter-widgets/base",
            "_view_module_version": "1.2.0",
            "_view_name": "StyleView",
            "description_width": ""
          }
        },
        "6280569b4632406fbf194206680a7559": {
          "model_module": "@jupyter-widgets/base",
          "model_name": "LayoutModel",
          "model_module_version": "1.2.0",
          "state": {
            "_model_module": "@jupyter-widgets/base",
            "_model_module_version": "1.2.0",
            "_model_name": "LayoutModel",
            "_view_count": null,
            "_view_module": "@jupyter-widgets/base",
            "_view_module_version": "1.2.0",
            "_view_name": "LayoutView",
            "align_content": null,
            "align_items": null,
            "align_self": null,
            "border": null,
            "bottom": null,
            "display": null,
            "flex": null,
            "flex_flow": null,
            "grid_area": null,
            "grid_auto_columns": null,
            "grid_auto_flow": null,
            "grid_auto_rows": null,
            "grid_column": null,
            "grid_gap": null,
            "grid_row": null,
            "grid_template_areas": null,
            "grid_template_columns": null,
            "grid_template_rows": null,
            "height": null,
            "justify_content": null,
            "justify_items": null,
            "left": null,
            "margin": null,
            "max_height": null,
            "max_width": null,
            "min_height": null,
            "min_width": null,
            "object_fit": null,
            "object_position": null,
            "order": null,
            "overflow": null,
            "overflow_x": null,
            "overflow_y": null,
            "padding": null,
            "right": null,
            "top": null,
            "visibility": null,
            "width": null
          }
        },
        "81d75a403101482582f8b933c0fa217d": {
          "model_module": "@jupyter-widgets/controls",
          "model_name": "ProgressStyleModel",
          "model_module_version": "1.5.0",
          "state": {
            "_model_module": "@jupyter-widgets/controls",
            "_model_module_version": "1.5.0",
            "_model_name": "ProgressStyleModel",
            "_view_count": null,
            "_view_module": "@jupyter-widgets/base",
            "_view_module_version": "1.2.0",
            "_view_name": "StyleView",
            "bar_color": null,
            "description_width": ""
          }
        },
        "536730c0d14649fbad867e50b84a3851": {
          "model_module": "@jupyter-widgets/base",
          "model_name": "LayoutModel",
          "model_module_version": "1.2.0",
          "state": {
            "_model_module": "@jupyter-widgets/base",
            "_model_module_version": "1.2.0",
            "_model_name": "LayoutModel",
            "_view_count": null,
            "_view_module": "@jupyter-widgets/base",
            "_view_module_version": "1.2.0",
            "_view_name": "LayoutView",
            "align_content": null,
            "align_items": null,
            "align_self": null,
            "border": null,
            "bottom": null,
            "display": null,
            "flex": null,
            "flex_flow": null,
            "grid_area": null,
            "grid_auto_columns": null,
            "grid_auto_flow": null,
            "grid_auto_rows": null,
            "grid_column": null,
            "grid_gap": null,
            "grid_row": null,
            "grid_template_areas": null,
            "grid_template_columns": null,
            "grid_template_rows": null,
            "height": null,
            "justify_content": null,
            "justify_items": null,
            "left": null,
            "margin": null,
            "max_height": null,
            "max_width": null,
            "min_height": null,
            "min_width": null,
            "object_fit": null,
            "object_position": null,
            "order": null,
            "overflow": null,
            "overflow_x": null,
            "overflow_y": null,
            "padding": null,
            "right": null,
            "top": null,
            "visibility": null,
            "width": null
          }
        },
        "75f3329bdfc04a208a8c429ceb94150f": {
          "model_module": "@jupyter-widgets/controls",
          "model_name": "DescriptionStyleModel",
          "model_module_version": "1.5.0",
          "state": {
            "_model_module": "@jupyter-widgets/controls",
            "_model_module_version": "1.5.0",
            "_model_name": "DescriptionStyleModel",
            "_view_count": null,
            "_view_module": "@jupyter-widgets/base",
            "_view_module_version": "1.2.0",
            "_view_name": "StyleView",
            "description_width": ""
          }
        }
      }
    }
  },
  "cells": [
    {
      "cell_type": "code",
      "execution_count": 40,
      "metadata": {
        "id": "s9tRq_bSD2h2"
      },
      "outputs": [],
      "source": [
        "import pandas as pd\n",
        "import numpy as np\n",
        "import os\n",
        "import re\n"
      ]
    },
    {
      "cell_type": "code",
      "source": [
        "! pip install datasets"
      ],
      "metadata": {
        "colab": {
          "base_uri": "https://localhost:8080/"
        },
        "id": "31oKOET_EJkG",
        "outputId": "5a7a676d-ff56-4485-a4e8-0acebb395581"
      },
      "execution_count": 41,
      "outputs": [
        {
          "output_type": "stream",
          "name": "stdout",
          "text": [
            "Requirement already satisfied: datasets in /usr/local/lib/python3.11/dist-packages (3.2.0)\n",
            "Requirement already satisfied: filelock in /usr/local/lib/python3.11/dist-packages (from datasets) (3.16.1)\n",
            "Requirement already satisfied: numpy>=1.17 in /usr/local/lib/python3.11/dist-packages (from datasets) (1.26.4)\n",
            "Requirement already satisfied: pyarrow>=15.0.0 in /usr/local/lib/python3.11/dist-packages (from datasets) (17.0.0)\n",
            "Requirement already satisfied: dill<0.3.9,>=0.3.0 in /usr/local/lib/python3.11/dist-packages (from datasets) (0.3.8)\n",
            "Requirement already satisfied: pandas in /usr/local/lib/python3.11/dist-packages (from datasets) (2.2.2)\n",
            "Requirement already satisfied: requests>=2.32.2 in /usr/local/lib/python3.11/dist-packages (from datasets) (2.32.3)\n",
            "Requirement already satisfied: tqdm>=4.66.3 in /usr/local/lib/python3.11/dist-packages (from datasets) (4.67.1)\n",
            "Requirement already satisfied: xxhash in /usr/local/lib/python3.11/dist-packages (from datasets) (3.5.0)\n",
            "Requirement already satisfied: multiprocess<0.70.17 in /usr/local/lib/python3.11/dist-packages (from datasets) (0.70.16)\n",
            "Requirement already satisfied: fsspec<=2024.9.0,>=2023.1.0 in /usr/local/lib/python3.11/dist-packages (from fsspec[http]<=2024.9.0,>=2023.1.0->datasets) (2024.9.0)\n",
            "Requirement already satisfied: aiohttp in /usr/local/lib/python3.11/dist-packages (from datasets) (3.11.11)\n",
            "Requirement already satisfied: huggingface-hub>=0.23.0 in /usr/local/lib/python3.11/dist-packages (from datasets) (0.27.1)\n",
            "Requirement already satisfied: packaging in /usr/local/lib/python3.11/dist-packages (from datasets) (24.2)\n",
            "Requirement already satisfied: pyyaml>=5.1 in /usr/local/lib/python3.11/dist-packages (from datasets) (6.0.2)\n",
            "Requirement already satisfied: aiohappyeyeballs>=2.3.0 in /usr/local/lib/python3.11/dist-packages (from aiohttp->datasets) (2.4.4)\n",
            "Requirement already satisfied: aiosignal>=1.1.2 in /usr/local/lib/python3.11/dist-packages (from aiohttp->datasets) (1.3.2)\n",
            "Requirement already satisfied: attrs>=17.3.0 in /usr/local/lib/python3.11/dist-packages (from aiohttp->datasets) (24.3.0)\n",
            "Requirement already satisfied: frozenlist>=1.1.1 in /usr/local/lib/python3.11/dist-packages (from aiohttp->datasets) (1.5.0)\n",
            "Requirement already satisfied: multidict<7.0,>=4.5 in /usr/local/lib/python3.11/dist-packages (from aiohttp->datasets) (6.1.0)\n",
            "Requirement already satisfied: propcache>=0.2.0 in /usr/local/lib/python3.11/dist-packages (from aiohttp->datasets) (0.2.1)\n",
            "Requirement already satisfied: yarl<2.0,>=1.17.0 in /usr/local/lib/python3.11/dist-packages (from aiohttp->datasets) (1.18.3)\n",
            "Requirement already satisfied: typing-extensions>=3.7.4.3 in /usr/local/lib/python3.11/dist-packages (from huggingface-hub>=0.23.0->datasets) (4.12.2)\n",
            "Requirement already satisfied: charset-normalizer<4,>=2 in /usr/local/lib/python3.11/dist-packages (from requests>=2.32.2->datasets) (3.4.1)\n",
            "Requirement already satisfied: idna<4,>=2.5 in /usr/local/lib/python3.11/dist-packages (from requests>=2.32.2->datasets) (3.10)\n",
            "Requirement already satisfied: urllib3<3,>=1.21.1 in /usr/local/lib/python3.11/dist-packages (from requests>=2.32.2->datasets) (2.3.0)\n",
            "Requirement already satisfied: certifi>=2017.4.17 in /usr/local/lib/python3.11/dist-packages (from requests>=2.32.2->datasets) (2024.12.14)\n",
            "Requirement already satisfied: python-dateutil>=2.8.2 in /usr/local/lib/python3.11/dist-packages (from pandas->datasets) (2.8.2)\n",
            "Requirement already satisfied: pytz>=2020.1 in /usr/local/lib/python3.11/dist-packages (from pandas->datasets) (2024.2)\n",
            "Requirement already satisfied: tzdata>=2022.7 in /usr/local/lib/python3.11/dist-packages (from pandas->datasets) (2024.2)\n",
            "Requirement already satisfied: six>=1.5 in /usr/local/lib/python3.11/dist-packages (from python-dateutil>=2.8.2->pandas->datasets) (1.17.0)\n"
          ]
        }
      ]
    },
    {
      "cell_type": "code",
      "source": [
        "from datasets import load_dataset\n",
        "\n",
        "# Load Subsets\n",
        "labeled_final = load_dataset(\"paws\", \"labeled_final\")"
      ],
      "metadata": {
        "id": "PZ6y8ghsEVJN"
      },
      "execution_count": 42,
      "outputs": []
    },
    {
      "cell_type": "code",
      "source": [
        "labeled_final"
      ],
      "metadata": {
        "colab": {
          "base_uri": "https://localhost:8080/"
        },
        "id": "p7yEtwmzEbJx",
        "outputId": "af624c3a-e548-4521-bf97-4a91910a0a04"
      },
      "execution_count": 43,
      "outputs": [
        {
          "output_type": "execute_result",
          "data": {
            "text/plain": [
              "DatasetDict({\n",
              "    train: Dataset({\n",
              "        features: ['id', 'sentence1', 'sentence2', 'label'],\n",
              "        num_rows: 49401\n",
              "    })\n",
              "    test: Dataset({\n",
              "        features: ['id', 'sentence1', 'sentence2', 'label'],\n",
              "        num_rows: 8000\n",
              "    })\n",
              "    validation: Dataset({\n",
              "        features: ['id', 'sentence1', 'sentence2', 'label'],\n",
              "        num_rows: 8000\n",
              "    })\n",
              "})"
            ]
          },
          "metadata": {},
          "execution_count": 43
        }
      ]
    },
    {
      "cell_type": "code",
      "source": [
        "train = labeled_final['train'].select(range(500))\n",
        "test = labeled_final['test'].select(range(50))\n",
        "valid = labeled_final['validation'].select(range(50))"
      ],
      "metadata": {
        "id": "txQCAfdbEea2"
      },
      "execution_count": 44,
      "outputs": []
    },
    {
      "cell_type": "code",
      "source": [
        "train[0]"
      ],
      "metadata": {
        "colab": {
          "base_uri": "https://localhost:8080/"
        },
        "id": "movzRa15Emlj",
        "outputId": "90166356-2f31-4102-8ed2-f5eae5f87ea8"
      },
      "execution_count": 45,
      "outputs": [
        {
          "output_type": "execute_result",
          "data": {
            "text/plain": [
              "{'id': 1,\n",
              " 'sentence1': 'In Paris , in October 1560 , he secretly met the English ambassador , Nicolas Throckmorton , asking him for a passport to return to England through Scotland .',\n",
              " 'sentence2': 'In October 1560 , he secretly met with the English ambassador , Nicolas Throckmorton , in Paris , and asked him for a passport to return to Scotland through England .',\n",
              " 'label': 0}"
            ]
          },
          "metadata": {},
          "execution_count": 45
        }
      ]
    },
    {
      "cell_type": "code",
      "source": [
        "from google.colab import userdata\n",
        "HF_TOKEN= userdata.get('HuggingFace')\n",
        "\n",
        "from huggingface_hub import login\n",
        "login(token=HF_TOKEN)"
      ],
      "metadata": {
        "id": "YIsyFV_1GTEE"
      },
      "execution_count": 46,
      "outputs": []
    },
    {
      "cell_type": "code",
      "source": [
        "from transformers import AutoTokenizer, AutoModelForSequenceClassification"
      ],
      "metadata": {
        "id": "oGIyf_iwHfkn"
      },
      "execution_count": 47,
      "outputs": []
    },
    {
      "cell_type": "code",
      "source": [
        "model_name = \"meta-llama/Llama-3.2-1B\"\n",
        "tokenizer = AutoTokenizer.from_pretrained(model_name)\n",
        "\n",
        "# Load the model\n",
        "model = AutoModelForSequenceClassification.from_pretrained(model_name, num_labels=2)\n",
        "\n",
        "\n"
      ],
      "metadata": {
        "colab": {
          "base_uri": "https://localhost:8080/"
        },
        "id": "ZclzrnCqFAvn",
        "outputId": "2f746e95-f04f-4d88-fc91-bc24d6408c4b"
      },
      "execution_count": 48,
      "outputs": [
        {
          "output_type": "stream",
          "name": "stderr",
          "text": [
            "Some weights of LlamaForSequenceClassification were not initialized from the model checkpoint at meta-llama/Llama-3.2-1B and are newly initialized: ['score.weight']\n",
            "You should probably TRAIN this model on a down-stream task to be able to use it for predictions and inference.\n"
          ]
        }
      ]
    },
    {
      "cell_type": "code",
      "source": [
        "# Ensure tokenizer has a pad_token\n",
        "if tokenizer.pad_token is None:\n",
        "    tokenizer.add_special_tokens({'pad_token': '[PAD]'})\n",
        "    print(\"Padding token added as [PAD].\")\n",
        "\n",
        "# Resize model embeddings if new token is added\n",
        "if tokenizer.pad_token_id is not None and model.get_input_embeddings().num_embeddings != len(tokenizer):\n",
        "    model.resize_token_embeddings(len(tokenizer))\n",
        "\n",
        "# Set pad_token_id in model configuration\n",
        "model.config.pad_token_id = tokenizer.pad_token_id\n",
        "\n",
        "# Tokenization function\n",
        "def tokenize_function(examples):\n",
        "    return tokenizer(\n",
        "        examples[\"sentence1\"],\n",
        "        examples[\"sentence2\"],\n",
        "        padding=\"max_length\",  # Use padding\n",
        "        truncation=True,\n",
        "        max_length=128\n",
        "    )\n",
        "\n",
        "tokenized_train_dataset = train.map(tokenize_function, batched=True)"
      ],
      "metadata": {
        "colab": {
          "base_uri": "https://localhost:8080/"
        },
        "id": "LGfkF13QGkat",
        "outputId": "510ae2d3-5f69-4378-c67e-95ab4019ac6c"
      },
      "execution_count": 49,
      "outputs": [
        {
          "output_type": "stream",
          "name": "stdout",
          "text": [
            "Padding token added as [PAD].\n"
          ]
        }
      ]
    },
    {
      "cell_type": "code",
      "source": [
        "tokenized_train_dataset"
      ],
      "metadata": {
        "colab": {
          "base_uri": "https://localhost:8080/"
        },
        "id": "6tygA1OJIB8x",
        "outputId": "105e1bb9-8eba-4535-b38d-296fda2c254d"
      },
      "execution_count": 50,
      "outputs": [
        {
          "output_type": "execute_result",
          "data": {
            "text/plain": [
              "Dataset({\n",
              "    features: ['id', 'sentence1', 'sentence2', 'label', 'input_ids', 'attention_mask'],\n",
              "    num_rows: 500\n",
              "})"
            ]
          },
          "metadata": {},
          "execution_count": 50
        }
      ]
    },
    {
      "cell_type": "code",
      "source": [
        "tokenized_test_dataset = test.map(tokenize_function, batched=True)\n",
        "tokenized_valid_dataset = valid.map(tokenize_function, batched=True)"
      ],
      "metadata": {
        "colab": {
          "base_uri": "https://localhost:8080/",
          "height": 49,
          "referenced_widgets": [
            "d28c48d87a1a4cb9a9ffccbe777cb0ba",
            "4393157571ef410aa954e8390d34978b",
            "85bc0fcc5e10465a8f5a69c33a2903dd",
            "bbd743b94ba4498ea6b96be3d96fa0f0",
            "e6b0d0fde51d402b97e5a6b3627d1f82",
            "2d89cd2e079842978b2dca15313de6ba",
            "82372415ede84a96a8ed7d60acceb184",
            "d57c40e668344974939b4ec88fc719ce",
            "f21cd7ca6ef7486d823b42bdaa0f7d79",
            "d69e68eba3d14bd783d43b7f8f1e7f26",
            "73d4cf0156de41a48ff7746e3c9d65fa"
          ]
        },
        "id": "BQ_9M2DHIc3d",
        "outputId": "e55d05a2-7be4-43a3-de3f-4d4e36fdec9e"
      },
      "execution_count": 51,
      "outputs": [
        {
          "output_type": "display_data",
          "data": {
            "text/plain": [
              "Map:   0%|          | 0/50 [00:00<?, ? examples/s]"
            ],
            "application/vnd.jupyter.widget-view+json": {
              "version_major": 2,
              "version_minor": 0,
              "model_id": "d28c48d87a1a4cb9a9ffccbe777cb0ba"
            }
          },
          "metadata": {}
        }
      ]
    },
    {
      "cell_type": "code",
      "source": [
        "# Keep only the necessary features\n",
        "tokenized_train_dataset = tokenized_train_dataset.map(\n",
        "    lambda examples: {\n",
        "        \"input_ids\": examples[\"input_ids\"],\n",
        "        \"attention_mask\": examples[\"attention_mask\"],\n",
        "        \"labels\": examples[\"label\"]\n",
        "    },\n",
        "    remove_columns=[\"id\", \"sentence1\", \"sentence2\", \"label\"]\n",
        ")\n",
        "tokenized_train_dataset"
      ],
      "metadata": {
        "colab": {
          "base_uri": "https://localhost:8080/"
        },
        "id": "rZG5RMq9JCUf",
        "outputId": "9ef3eefc-65d9-4747-c850-89c3308ba706"
      },
      "execution_count": 52,
      "outputs": [
        {
          "output_type": "execute_result",
          "data": {
            "text/plain": [
              "Dataset({\n",
              "    features: ['input_ids', 'attention_mask', 'labels'],\n",
              "    num_rows: 500\n",
              "})"
            ]
          },
          "metadata": {},
          "execution_count": 52
        }
      ]
    },
    {
      "cell_type": "code",
      "source": [
        "# Keep only the necessary features\n",
        "tokenized_valid_dataset = tokenized_valid_dataset.map(\n",
        "    lambda examples: {\n",
        "        \"input_ids\": examples[\"input_ids\"],\n",
        "        \"attention_mask\": examples[\"attention_mask\"],\n",
        "        \"labels\": examples[\"label\"]\n",
        "    },\n",
        "    remove_columns=[\"id\", \"sentence1\", \"sentence2\", \"label\"]\n",
        ")\n",
        "\n",
        "tokenized_valid_dataset"
      ],
      "metadata": {
        "colab": {
          "base_uri": "https://localhost:8080/",
          "height": 118,
          "referenced_widgets": [
            "3d3c1cbd61844977b255cbad8aed8a7b",
            "86e32fd39769490684719fed5446320e",
            "94715dae142644369093348324bfc00f",
            "7753b624964344dc8a749073523049ce",
            "a318c82776d0412d986fe440c5773a3f",
            "1cfacec2b13f458c9025658b4925e9ee",
            "35bad2cb88bb4d4796172eea9fbf72ef",
            "6280569b4632406fbf194206680a7559",
            "81d75a403101482582f8b933c0fa217d",
            "536730c0d14649fbad867e50b84a3851",
            "75f3329bdfc04a208a8c429ceb94150f"
          ]
        },
        "id": "GCLGlo0HJTGl",
        "outputId": "e3bf5b86-05af-4def-fbed-66a803bec4bc"
      },
      "execution_count": 53,
      "outputs": [
        {
          "output_type": "display_data",
          "data": {
            "text/plain": [
              "Map:   0%|          | 0/50 [00:00<?, ? examples/s]"
            ],
            "application/vnd.jupyter.widget-view+json": {
              "version_major": 2,
              "version_minor": 0,
              "model_id": "3d3c1cbd61844977b255cbad8aed8a7b"
            }
          },
          "metadata": {}
        },
        {
          "output_type": "execute_result",
          "data": {
            "text/plain": [
              "Dataset({\n",
              "    features: ['input_ids', 'attention_mask', 'labels'],\n",
              "    num_rows: 50\n",
              "})"
            ]
          },
          "metadata": {},
          "execution_count": 53
        }
      ]
    },
    {
      "cell_type": "code",
      "source": [
        "# # Keep only the necessary features\n",
        "# tokenized_test_dataset = tokenized_test_dataset.map(\n",
        "#     lambda examples: {\n",
        "#         \"input_ids\": examples[\"input_ids\"],\n",
        "#         \"attention_mask\": examples[\"attention_mask\"],\n",
        "#         \"labels\": examples[\"label\"]\n",
        "#     },\n",
        "#     remove_columns=[\"id\", \"sentence1\", \"sentence2\", \"label\"]\n",
        "# )\n",
        "\n",
        "tokenized_test_dataset"
      ],
      "metadata": {
        "colab": {
          "base_uri": "https://localhost:8080/"
        },
        "id": "81b0LcPZJdBT",
        "outputId": "2530ed55-74d4-4998-b04e-06be94ee7a90"
      },
      "execution_count": 54,
      "outputs": [
        {
          "output_type": "execute_result",
          "data": {
            "text/plain": [
              "Dataset({\n",
              "    features: ['id', 'sentence1', 'sentence2', 'label', 'input_ids', 'attention_mask'],\n",
              "    num_rows: 50\n",
              "})"
            ]
          },
          "metadata": {},
          "execution_count": 54
        }
      ]
    },
    {
      "cell_type": "code",
      "source": [
        "# import os\n",
        "# # disable Weights and Biases\n",
        "# os.environ['WANDB_DISABLED']=\"true\"\n"
      ],
      "metadata": {
        "id": "70GeXdlTKwN5"
      },
      "execution_count": 55,
      "outputs": []
    },
    {
      "cell_type": "code",
      "source": [
        "from transformers import TrainingArguments\n",
        "\n",
        "training_args = TrainingArguments(\n",
        "    output_dir=\"./results_lora\",         # Output directory for saved models\n",
        "    eval_strategy=\"epoch\",   # Evaluate after each epoch\n",
        "    learning_rate=2e-5,          # Learning rate\n",
        "    per_device_train_batch_size=4, # Training batch size\n",
        "    per_device_eval_batch_size=4, # Evaluation batch size\n",
        "    num_train_epochs=2,            # Number of training epochs\n",
        "    weight_decay=0.01,             # Weight decay\n",
        "    save_total_limit=2,            # Save only the 2 most recent models\n",
        "    logging_dir=\"./logs\",          # Log directory\n",
        "    logging_steps=50,              # Log every 50 steps\n",
        "    load_best_model_at_end=True,    # Load the best model at the end of training\n",
        "    save_strategy=\"epoch\",         # Change save_strategy to 'epoch' to match eval_strategy\n",
        "    #gradient_accumulation_steps=2, # Added gradient accumulation\n",
        "    fp16=True,                       # Enabled mixed precision training\n",
        "    #gradient_checkpointing=True\n",
        ")\n",
        "\n"
      ],
      "metadata": {
        "id": "HFR3LQtfJihO"
      },
      "execution_count": 56,
      "outputs": []
    },
    {
      "cell_type": "code",
      "source": [
        "from peft import LoraConfig, get_peft_model\n",
        "\n",
        "# Define LoRA configuration\n",
        "lora_config = LoraConfig(\n",
        "    r=8,                          # Low-rank size\n",
        "    lora_alpha=32,                # LoRA scaling factor\n",
        "    target_modules=[\"q_proj\", \"v_proj\"],  # Target attention layers (specific to LLaMA)\n",
        "    lora_dropout=0.1,             # Dropout for LoRA layers\n",
        "    bias=\"none\",                  # No bias adaptation\n",
        "    task_type=\"CAUSAL_LM\"         # Task type: causal language modeling\n",
        ")\n",
        "\n",
        "# Wrap the model with LoRA\n",
        "model = get_peft_model(model, lora_config)"
      ],
      "metadata": {
        "id": "C8dUI3CiQMfH"
      },
      "execution_count": 57,
      "outputs": []
    },
    {
      "cell_type": "code",
      "source": [
        "model.print_trainable_parameters()"
      ],
      "metadata": {
        "colab": {
          "base_uri": "https://localhost:8080/"
        },
        "id": "ARn_PCD7QboB",
        "outputId": "f733a909-bd05-4a8e-9c98-17ea12cb8b74"
      },
      "execution_count": 58,
      "outputs": [
        {
          "output_type": "stream",
          "name": "stdout",
          "text": [
            "trainable params: 851,968 || all params: 1,236,672,512 || trainable%: 0.0689\n"
          ]
        }
      ]
    },
    {
      "cell_type": "code",
      "source": [
        "from sklearn.metrics import accuracy_score, precision_recall_fscore_support\n",
        "\n",
        "# Define a metric function\n",
        "def compute_metrics(pred):\n",
        "    labels = pred.label_ids\n",
        "    preds = pred.predictions.argmax(-1)  # Get the class with the highest score\n",
        "\n",
        "    # Calculate accuracy, precision, recall, and F1\n",
        "    accuracy = accuracy_score(labels, preds)\n",
        "    precision, recall, f1, _ = precision_recall_fscore_support(labels, preds, average=\"binary\")\n",
        "\n",
        "    return {\n",
        "        \"accuracy\": accuracy,\n",
        "        \"precision\": precision,\n",
        "        \"recall\": recall,\n",
        "        \"f1\": f1,\n",
        "    }"
      ],
      "metadata": {
        "id": "O9Km97MtYGGl"
      },
      "execution_count": 59,
      "outputs": []
    },
    {
      "cell_type": "code",
      "source": [
        "from transformers import Trainer\n",
        "\n",
        "trainer = Trainer(\n",
        "    model=model,\n",
        "    args=training_args,\n",
        "    train_dataset=tokenized_train_dataset,\n",
        "    eval_dataset=tokenized_valid_dataset,  # Assuming you have a validation set\n",
        "    tokenizer=tokenizer,\n",
        "    compute_metrics=compute_metrics\n",
        ")"
      ],
      "metadata": {
        "colab": {
          "base_uri": "https://localhost:8080/"
        },
        "id": "IkJJhz__Jtxt",
        "outputId": "03bf61eb-198e-4a06-f98d-e3965e943df4"
      },
      "execution_count": 60,
      "outputs": [
        {
          "output_type": "stream",
          "name": "stderr",
          "text": [
            "<ipython-input-60-879b8456e18e>:3: FutureWarning: `tokenizer` is deprecated and will be removed in version 5.0.0 for `Trainer.__init__`. Use `processing_class` instead.\n",
            "  trainer = Trainer(\n"
          ]
        }
      ]
    },
    {
      "cell_type": "code",
      "source": [
        "!nvidia-smi"
      ],
      "metadata": {
        "colab": {
          "base_uri": "https://localhost:8080/"
        },
        "id": "wyt8O7P0PYO5",
        "outputId": "0592b6ff-efe3-41f5-d9e1-66fdbc069c5a"
      },
      "execution_count": 61,
      "outputs": [
        {
          "output_type": "stream",
          "name": "stdout",
          "text": [
            "Thu Jan 16 09:20:35 2025       \n",
            "+---------------------------------------------------------------------------------------+\n",
            "| NVIDIA-SMI 535.104.05             Driver Version: 535.104.05   CUDA Version: 12.2     |\n",
            "|-----------------------------------------+----------------------+----------------------+\n",
            "| GPU  Name                 Persistence-M | Bus-Id        Disp.A | Volatile Uncorr. ECC |\n",
            "| Fan  Temp   Perf          Pwr:Usage/Cap |         Memory-Usage | GPU-Util  Compute M. |\n",
            "|                                         |                      |               MIG M. |\n",
            "|=========================================+======================+======================|\n",
            "|   0  Tesla T4                       Off | 00000000:00:04.0 Off |                    0 |\n",
            "| N/A   67C    P0              30W /  70W |  12457MiB / 15360MiB |     17%      Default |\n",
            "|                                         |                      |                  N/A |\n",
            "+-----------------------------------------+----------------------+----------------------+\n",
            "                                                                                         \n",
            "+---------------------------------------------------------------------------------------+\n",
            "| Processes:                                                                            |\n",
            "|  GPU   GI   CI        PID   Type   Process name                            GPU Memory |\n",
            "|        ID   ID                                                             Usage      |\n",
            "|=======================================================================================|\n",
            "+---------------------------------------------------------------------------------------+\n"
          ]
        }
      ]
    },
    {
      "cell_type": "code",
      "source": [
        "trainer.train()"
      ],
      "metadata": {
        "colab": {
          "base_uri": "https://localhost:8080/",
          "height": 314
        },
        "id": "7rO1PIgHKkRP",
        "outputId": "49429d86-2602-4181-8af3-e13dcee1ece4"
      },
      "execution_count": 62,
      "outputs": [
        {
          "output_type": "display_data",
          "data": {
            "text/plain": [
              "<IPython.core.display.HTML object>"
            ],
            "text/html": [
              "\n",
              "    <div>\n",
              "      \n",
              "      <progress value='126' max='126' style='width:300px; height:20px; vertical-align: middle;'></progress>\n",
              "      [126/126 01:20, Epoch 2/2]\n",
              "    </div>\n",
              "    <table border=\"1\" class=\"dataframe\">\n",
              "  <thead>\n",
              " <tr style=\"text-align: left;\">\n",
              "      <th>Epoch</th>\n",
              "      <th>Training Loss</th>\n",
              "      <th>Validation Loss</th>\n",
              "      <th>Accuracy</th>\n",
              "      <th>Precision</th>\n",
              "      <th>Recall</th>\n",
              "      <th>F1</th>\n",
              "    </tr>\n",
              "  </thead>\n",
              "  <tbody>\n",
              "    <tr>\n",
              "      <td>1</td>\n",
              "      <td>2.029200</td>\n",
              "      <td>1.042668</td>\n",
              "      <td>0.440000</td>\n",
              "      <td>0.472222</td>\n",
              "      <td>0.653846</td>\n",
              "      <td>0.548387</td>\n",
              "    </tr>\n",
              "    <tr>\n",
              "      <td>2</td>\n",
              "      <td>1.109400</td>\n",
              "      <td>0.965993</td>\n",
              "      <td>0.440000</td>\n",
              "      <td>0.464286</td>\n",
              "      <td>0.500000</td>\n",
              "      <td>0.481481</td>\n",
              "    </tr>\n",
              "  </tbody>\n",
              "</table><p>"
            ]
          },
          "metadata": {}
        },
        {
          "output_type": "stream",
          "name": "stderr",
          "text": [
            "/usr/local/lib/python3.11/dist-packages/peft/utils/save_and_load.py:260: UserWarning: Setting `save_embedding_layers` to `True` as the embedding layer has been resized during finetuning.\n",
            "  warnings.warn(\n",
            "/usr/local/lib/python3.11/dist-packages/peft/utils/save_and_load.py:260: UserWarning: Setting `save_embedding_layers` to `True` as the embedding layer has been resized during finetuning.\n",
            "  warnings.warn(\n",
            "/usr/local/lib/python3.11/dist-packages/peft/utils/save_and_load.py:260: UserWarning: Setting `save_embedding_layers` to `True` as the embedding layer has been resized during finetuning.\n",
            "  warnings.warn(\n"
          ]
        },
        {
          "output_type": "execute_result",
          "data": {
            "text/plain": [
              "TrainOutput(global_step=126, training_loss=1.4365655505467976, metrics={'train_runtime': 81.2406, 'train_samples_per_second': 12.309, 'train_steps_per_second': 1.551, 'total_flos': 748033671168000.0, 'train_loss': 1.4365655505467976, 'epoch': 2.0})"
            ]
          },
          "metadata": {},
          "execution_count": 62
        }
      ]
    },
    {
      "cell_type": "code",
      "source": [
        "results = trainer.evaluate()\n",
        "print(\"Evaluation Results:\", results)"
      ],
      "metadata": {
        "colab": {
          "base_uri": "https://localhost:8080/",
          "height": 74
        },
        "id": "UP0UkOrJKk06",
        "outputId": "fd6868f9-f980-4385-bf2a-df26b1e87f49"
      },
      "execution_count": 63,
      "outputs": [
        {
          "output_type": "display_data",
          "data": {
            "text/plain": [
              "<IPython.core.display.HTML object>"
            ],
            "text/html": [
              "\n",
              "    <div>\n",
              "      \n",
              "      <progress value='7' max='7' style='width:300px; height:20px; vertical-align: middle;'></progress>\n",
              "      [7/7 00:00]\n",
              "    </div>\n",
              "    "
            ]
          },
          "metadata": {}
        },
        {
          "output_type": "stream",
          "name": "stdout",
          "text": [
            "Evaluation Results: {'eval_loss': 0.965993344783783, 'eval_accuracy': 0.44, 'eval_precision': 0.4642857142857143, 'eval_recall': 0.5, 'eval_f1': 0.48148148148148145, 'eval_runtime': 1.0181, 'eval_samples_per_second': 49.113, 'eval_steps_per_second': 6.876, 'epoch': 2.0}\n"
          ]
        }
      ]
    },
    {
      "cell_type": "code",
      "source": [
        "test_results = trainer.predict(tokenized_test_dataset)\n",
        "metrics = compute_metrics(test_results)\n",
        "print(metrics)"
      ],
      "metadata": {
        "colab": {
          "base_uri": "https://localhost:8080/",
          "height": 34
        },
        "id": "SjSMUUBBXlKg",
        "outputId": "80d2118a-66e4-4f4a-80af-ace098abe09a"
      },
      "execution_count": 64,
      "outputs": [
        {
          "output_type": "display_data",
          "data": {
            "text/plain": [
              "<IPython.core.display.HTML object>"
            ],
            "text/html": []
          },
          "metadata": {}
        },
        {
          "output_type": "stream",
          "name": "stdout",
          "text": [
            "{'accuracy': 0.56, 'precision': 0.4, 'recall': 0.3157894736842105, 'f1': 0.35294117647058826}\n"
          ]
        }
      ]
    },
    {
      "cell_type": "code",
      "source": [
        "# Generate predictions for the test set\n",
        "predictions = test_results.predictions.argmax(-1)  # Predicted labels\n",
        "true_labels = test_results.label_ids               # True labels\n",
        "\n",
        "# Pair predictions with true labels\n",
        "for i in range(len(predictions)):\n",
        "    print(f\"Sentence1: {tokenized_test_dataset[i]['sentence1']}\")\n",
        "    print(f\"Sentence2: {tokenized_test_dataset[i]['sentence2']}\")\n",
        "    print(f\"True Label: {true_labels[i]}, Predicted Label: {predictions[i]}\\n\")"
      ],
      "metadata": {
        "colab": {
          "base_uri": "https://localhost:8080/"
        },
        "id": "6zcyXI-EYxBr",
        "outputId": "761f45cf-36b8-446c-8481-79a0a051b77a"
      },
      "execution_count": 65,
      "outputs": [
        {
          "output_type": "stream",
          "name": "stdout",
          "text": [
            "Sentence1: This was a series of nested angular standards , so that measurements in azimuth and elevation could be done directly in polar coordinates relative to the ecliptic .\n",
            "Sentence2: This was a series of nested polar scales , so that measurements in azimuth and elevation could be performed directly in angular coordinates relative to the ecliptic .\n",
            "True Label: 0, Predicted Label: 1\n",
            "\n",
            "Sentence1: His father emigrated to Missouri in 1868 but returned when his wife became ill and before the rest of the family could also go to America .\n",
            "Sentence2: His father emigrated to America in 1868 , but returned when his wife became ill and before the rest of the family could go to Missouri .\n",
            "True Label: 0, Predicted Label: 0\n",
            "\n",
            "Sentence1: In January 2011 , the Deputy Secretary General of FIBA Asia , Hagop Khajirian , inspected the venue together with SBP - President Manuel V. Pangilinan .\n",
            "Sentence2: In January 2011 , FIBA Asia deputy secretary general Hagop Khajirian along with SBP president Manuel V. Pangilinan inspected the venue .\n",
            "True Label: 1, Predicted Label: 1\n",
            "\n",
            "Sentence1: Steiner argued that , in the right circumstances , the spiritual world can be explored through direct experience by practicing ethical and cognitive forms of rigorous self-discipline .\n",
            "Sentence2: Steiner held that the spiritual world can be researched in the right circumstances through direct experience , by persons practicing rigorous forms of ethical and cognitive self-discipline .\n",
            "True Label: 0, Predicted Label: 0\n",
            "\n",
            "Sentence1: Luciano Williames Dias ( born July 25 , 1970 ) is a Brazilian football coach and former player .\n",
            "Sentence2: Luciano Williames Dias ( born 25 July 1970 ) is a former football coach and Brazilian player .\n",
            "True Label: 0, Predicted Label: 1\n",
            "\n",
            "Sentence1: During her sophomore , junior and senior summers , she spent half of it with her Alaska team , and half playing , and living in Oregon .\n",
            "Sentence2: During her second , junior and senior summers , she spent half of it with her Alaska team , half playing and living in Oregon .\n",
            "True Label: 1, Predicted Label: 0\n",
            "\n",
            "Sentence1: The smallest number that can be represented in two positive and seventh ways as a sum of four different powers is 2056364173794800 .\n",
            "Sentence2: The smallest number that can be represented as a sum of four positive seventh potences in two different ways is 2056364173794800 .\n",
            "True Label: 0, Predicted Label: 0\n",
            "\n",
            "Sentence1: His father emigrated to Missouri in 1868 , but returned when his wife became ill and before the rest of the family could go to America .\n",
            "Sentence2: His father emigrated to Missouri in 1868 but returned when his wife became ill and before the rest of the family could also go to America .\n",
            "True Label: 1, Predicted Label: 0\n",
            "\n",
            "Sentence1: The Villa Pesquera facilities are owned by the Municipality of Ponce , but operated by the fishermen themselves .\n",
            "Sentence2: The facilities of Villa Pesquera are operated by the Municipality of Ponce , but are owned by the fishermen .\n",
            "True Label: 0, Predicted Label: 0\n",
            "\n",
            "Sentence1: It is situated south of Köroğlu Mountains and to the north of Bolu .\n",
            "Sentence2: It is situated south of Köroğlu - mountains and north of the Bolu .\n",
            "True Label: 1, Predicted Label: 1\n",
            "\n",
            "Sentence1: The Río Blanco mine is a large copper mine located in the north of Peru in Loreto Region .\n",
            "Sentence2: The Río Blanco - Mine is a large copper mine in northern Peru in the region of Loreto .\n",
            "True Label: 1, Predicted Label: 0\n",
            "\n",
            "Sentence1: He appeared as General Tao in the Amazon - Show `` The Man at the High Castle '' , and as Onoda in AMC `` Hell On Wheels '' .\n",
            "Sentence2: He appeared as General Onoda in the Amazon - Show `` The Man in High Castle '' and as Tao on AMCs '' Hell On Wheels '' .\n",
            "True Label: 0, Predicted Label: 0\n",
            "\n",
            "Sentence1: The spectral levels of light that can be measured by plants for photosynthesis is similar to , but not the same as what 's used by lumens .\n",
            "Sentence2: The spectral light levels that can be measured by plants for photosynthesis are similar , but not the same as what is used by lumens .\n",
            "True Label: 1, Predicted Label: 0\n",
            "\n",
            "Sentence1: The Sunset Sunset Road comes from right and becomes Briscoe Mountain Road .\n",
            "Sentence2: Sunset Road comes in from the right and becomes Briscoe Mountain Road .\n",
            "True Label: 1, Predicted Label: 0\n",
            "\n",
            "Sentence1: To get there , take the Marine Drive from the Lions Gate Bridge to the West , past Lighthouse Park , Horseshoe Bay and then further on to the 7100 Marine Drive block .\n",
            "Sentence2: To get there , take Marine Drive west from the Lions Gate Bridge past Horseshoe Bay to Lighthouse Park and then continue on to 7100 Block Marine Drive .\n",
            "True Label: 0, Predicted Label: 0\n",
            "\n",
            "Sentence1: Inverallan is one of the parishes which formed the ecclesiastical ( later civil ) parish of `` Cromdale , Inverallan and Advie '' in Morayshire in Scotland .\n",
            "Sentence2: Inverallan is one of the parishes that formed the civil ( later ecclesiastical ) parish of Cromdale , Inverallan and Advie in Morayshire , Scotland .\n",
            "True Label: 0, Predicted Label: 0\n",
            "\n",
            "Sentence1: Mr. Thuso Nokwanda Mbedu was born in Pietermaritzburg as Thuso Mbebu .\n",
            "Sentence2: Thuso Nokwanda Mbedu was born Thuso Mbebu in Pietermaritzburg .\n",
            "True Label: 1, Predicted Label: 1\n",
            "\n",
            "Sentence1: For ideal gases , the molar volume is given by the ideal gas equation , a good approximation for many usual gases at standard temperature and pressure .\n",
            "Sentence2: For ideal gases the molar volume is given by the standard gas equation , a good approximation for many common gases at ideal temperature and pressure .\n",
            "True Label: 0, Predicted Label: 0\n",
            "\n",
            "Sentence1: John Barrow Island is a member of the Queen Elizabeth Islands and the Canadian Arctic Archipelago in the territory of Nunavut .\n",
            "Sentence2: John Barrow Island is a member of the Canadian Arctic Archipelago and the Queen Elizabeth Islands in the Nunavut area .\n",
            "True Label: 0, Predicted Label: 1\n",
            "\n",
            "Sentence1: It was chosen as the 19th best movie at the 7th Yokohama Film Festival .\n",
            "Sentence2: It was chosen as the 7th best film at the 19th Yokohama Film Festival .\n",
            "True Label: 0, Predicted Label: 1\n",
            "\n",
            "Sentence1: Christopher Griffiths ( born Christopher Llewellyn ) is an actor , best known for his role as Logan in the 2002 film `` Where Were We ... '' .\n",
            "Sentence2: Christopher Llewellyn ( born Christopher Griffiths ) is an actor known for his role as Logan in the film 'Where Were We ... `` ' from the year 2002 .\n",
            "True Label: 0, Predicted Label: 0\n",
            "\n",
            "Sentence1: Netanya is located on the Israeli Mediterranean Coastal Plain , the historic land bridge between Europe , Africa , and Asia .\n",
            "Sentence2: Netanya is located on the Israeli Mediterranean coast , the historic land bridge between Europe , Africa and Asia .\n",
            "True Label: 1, Predicted Label: 1\n",
            "\n",
            "Sentence1: Owned by Rick and Sheri Dorritie is Megasaurus and owned by Mike West Transaurus .\n",
            "Sentence2: Megasaurus is owned by Rick and Sheri Dorritie and Transaurus is owned by Mike West .\n",
            "True Label: 1, Predicted Label: 1\n",
            "\n",
            "Sentence1: All five events started the last day and concluded with the final on the first day .\n",
            "Sentence2: All five events started on the last day and concluded with the final on the first day .\n",
            "True Label: 1, Predicted Label: 0\n",
            "\n",
            "Sentence1: In January 2011 , FIBA Asia deputy secretary general Manuel V. Pangilinan along with SBP president Hagop Khajirian inspected the venue .\n",
            "Sentence2: In January 2011 , the Deputy Secretary General of FIBA Asia , Hagop Khajirian , inspected the venue together with SBP - President Manuel V. Pangilinan .\n",
            "True Label: 0, Predicted Label: 1\n",
            "\n",
            "Sentence1: The strong influence of Attic-figure Greek vase painting has convinced some experts that the artist who decorated the tomb was a red metic .\n",
            "Sentence2: The strong influence of redfigurine attic vase painting has convinced some experts that the artist who decorated the tomb was a Greek Metic .\n",
            "True Label: 0, Predicted Label: 0\n",
            "\n",
            "Sentence1: A unique feature of the human metate is the lack of ceremonial figures .\n",
            "Sentence2: A unique feature of ceremonial metate is the lack of human figures .\n",
            "True Label: 0, Predicted Label: 0\n",
            "\n",
            "Sentence1: Durr was born in Birmingham , Alabama , where she was brought up by southern women , but was also taught that the Ku Klux Klan were protectors of black femaleness .\n",
            "Sentence2: Durr was born in Birmingham , Alabama , where she was brought up by black women , but was also taught that the Ku Klux Klan were protectors of southern femininity .\n",
            "True Label: 0, Predicted Label: 0\n",
            "\n",
            "Sentence1: Katrina M. of Sputinik Music was positive and said that the song is reverse , bright and cheerful .\n",
            "Sentence2: Katrina M. of Sputinik Music was bright and cheerful and said the song is reversed , positive .\n",
            "True Label: 0, Predicted Label: 1\n",
            "\n",
            "Sentence1: The Nokasippi River , the Mississippi River and the Little Nokasippi River are all in the area .\n",
            "Sentence2: The Mississippi , the Nokasippi and the Little Nokasippi are all in the vicinity .\n",
            "True Label: 1, Predicted Label: 0\n",
            "\n",
            "Sentence1: In 2006 , the Álvarez won the South America Games against Hamilton Ventura .\n",
            "Sentence2: Hamilton Ventura won the 2006 South America Games against Álvarez .\n",
            "True Label: 0, Predicted Label: 1\n",
            "\n",
            "Sentence1: Some reports state `` 30 years or more '' , while others claim `` 50 years or more '' .\n",
            "Sentence2: Some reports claim `` 30 years or more '' , while others assert `` 50 years or more '' .\n",
            "True Label: 1, Predicted Label: 0\n",
            "\n",
            "Sentence1: The resignation of Councillor Horace Muspratt ( party ? , St. Peter , reported April 15 , 1908 ) was elected to the council on 2 June 1909 .\n",
            "Sentence2: The resignation of Councillor Horace Muspratt ( Party ? , St. Peter 's , reported 15 April 1908 ) was elected to the Council on 2 June 1909 .\n",
            "True Label: 1, Predicted Label: 0\n",
            "\n",
            "Sentence1: On April 11 , 2011 , a like planet , HD 38283 b , was discovered in an Earth-Saturnian orbit .\n",
            "Sentence2: In an earth-like orbit , a Saturn planet , HD 38283 b , was discovered on April 11 , 2011 .\n",
            "True Label: 0, Predicted Label: 0\n",
            "\n",
            "Sentence1: On July 21 , 2014 , after his two successful years at Las Palmas in Spain , Chrisantus signed a three-year contract with the Turkish Super Lig - Club Sivasspor .\n",
            "Sentence2: On July 21 , 2014 , after his two successful years at Las Palmas in Spain , Chrisantus signed a three-year contract with Sivasspor at the Turkish Super Lig .\n",
            "True Label: 0, Predicted Label: 1\n",
            "\n",
            "Sentence1: Ruben Bolling ( born 1963 in New Jersey ) is a pseudonym for cartoonist Ken Fisher , the author of `` Tom the Dancing Bug '' .\n",
            "Sentence2: Ken Fisher ( born c. 1963 in New Jersey ) is a pseudonym for Ruben Bolling , a cartoonist , the author of `` Tom the Dancing Bug '' .\n",
            "True Label: 0, Predicted Label: 0\n",
            "\n",
            "Sentence1: On December 1 , Tinnish announced that he had withdrawn from his position with Toronto and would stay with Atlanta .\n",
            "Sentence2: On 1 December , Tinnish announced that he had withdrawn from his position with Atlanta and would remain with Toronto .\n",
            "True Label: 0, Predicted Label: 0\n",
            "\n",
            "Sentence1: Located in the southern part of the county , it lies in the southeastern part of the state .\n",
            "Sentence2: It is located in the southeastern part of the county , in the southern part of the state .\n",
            "True Label: 0, Predicted Label: 0\n",
            "\n",
            "Sentence1: He was born in New York City in East Broadway on October 23 , 1806 .\n",
            "Sentence2: He was born on 23 October 1806 in New York , East Broadway .\n",
            "True Label: 1, Predicted Label: 0\n",
            "\n",
            "Sentence1: He always added his own surname of Bhosle and then treated the child like his own son .\n",
            "Sentence2: He always added his own surname of Bhosle and afterwards treated the child like his own son .\n",
            "True Label: 1, Predicted Label: 1\n",
            "\n",
            "Sentence1: After selling his house on 30 Harare drive to the Canadian Embassy he bought Bromley Farm just outside Marondera , Zimbabwe .\n",
            "Sentence2: After selling his house on 30 Harare ride to the Canadian embassy , he bought Bromley Farm outside Marondera , Zimbabwe .\n",
            "True Label: 1, Predicted Label: 0\n",
            "\n",
            "Sentence1: The Baldwins lived in Washington , D.C. Robert Baldwin died in 1977 , and Helen Baldwin died March 14 , 1998 , from Lou Gehrig 's disease .\n",
            "Sentence2: The Baldwins lived in Washington , D.C. Helen Baldwin died in 1977 , and Robert Baldwin died on March 14 , 1998 , from the disease of Lou Gehrig .\n",
            "True Label: 0, Predicted Label: 0\n",
            "\n",
            "Sentence1: Doyline is an entry point to Lake Bistineau and the Bistineau State Park .\n",
            "Sentence2: Lake Bistineau is an entry point to Doyline and the Lake Bistineau State Park .\n",
            "True Label: 0, Predicted Label: 0\n",
            "\n",
            "Sentence1: Companies based in the larger rivium include Rockwell Automation , Royal Dutch Shell , Sodexho Nederland , Pfizer , Van Oord and many more .\n",
            "Sentence2: Companies based in the larger Rivium include Rockwell Automation , Pfizer Nederland , Sodexho Nederland , Royal Dutch Shell , Van Oord , and many more .\n",
            "True Label: 0, Predicted Label: 0\n",
            "\n",
            "Sentence1: Axl Rose had wanted the Seattle rock band Nirvana to be the opening act , but frontman Kurt Cobain declined .\n",
            "Sentence2: Axl Rose had wanted Seattle rock band Nirvana to be the opening act , but frontman Kurt Cobain refused .\n",
            "True Label: 1, Predicted Label: 0\n",
            "\n",
            "Sentence1: He built weapons factories for Vtorov and Mikhelson in Moscow , Serpukhov , Zatishye ( Elektrostal ) , Bogorodsk ( Noginsk ) .\n",
            "Sentence2: He built weapon factories for Vtorov and Mikhelson in electrostal , Zatishye ( Moscow , Serpukhov ) and Bogorodsk ( Noginsk ) .\n",
            "True Label: 0, Predicted Label: 0\n",
            "\n",
            "Sentence1: In June of 1997 , Kristin met Richard Armstrong .\n",
            "Sentence2: In June of 1997 , Armstrong met Kristin Richard .\n",
            "True Label: 0, Predicted Label: 0\n",
            "\n",
            "Sentence1: The U.S. Route 191 leads north from Douglas to Interstate 10 near Willcox , the Arizona State Route 80 leads west to Bisbee and northeast to Interstate 10 in New Mexico .\n",
            "Sentence2: U.S. Route 191 leads north from Douglas to Interstate 10 near Willcox . Arizona State Route 80 leads west to Bisbee and northeast to Interstate 10 in New Mexico .\n",
            "True Label: 1, Predicted Label: 0\n",
            "\n",
            "Sentence1: Most Jewish anarchists supported anarchosyndicalism and communist anarchism , while a few were individualist anarchists .\n",
            "Sentence2: Most individualist anarchists supported anarchosyndicalism and communist anarchism , while a few Jewish anarchists were .\n",
            "True Label: 0, Predicted Label: 1\n",
            "\n",
            "Sentence1: From 1921 to 2012 , Blue Ash Airport was the location of Blue Ash Airport -- Cincinnati .\n",
            "Sentence2: From 1921 to 2012 , Cincinnati -- Blue Ash Airport was the Blue Blue Ash site .\n",
            "True Label: 0, Predicted Label: 0\n",
            "\n"
          ]
        }
      ]
    },
    {
      "cell_type": "code",
      "source": [],
      "metadata": {
        "id": "GEb0EaCBYxrb"
      },
      "execution_count": 65,
      "outputs": []
    }
  ]
}